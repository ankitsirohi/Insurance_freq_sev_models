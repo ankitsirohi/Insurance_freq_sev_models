{
 "cells": [
  {
   "cell_type": "markdown",
   "metadata": {},
   "source": [
    "# Modelling motor insurance claim frequency\n"
   ]
  },
  {
   "cell_type": "markdown",
   "metadata": {},
   "source": [
    "# Setup"
   ]
  },
  {
   "cell_type": "code",
   "execution_count": 1,
   "metadata": {
    "code_folding": []
   },
   "outputs": [],
   "source": [
    "import warnings\n",
    "warnings.filterwarnings(\"ignore\")"
   ]
  },
  {
   "cell_type": "code",
   "execution_count": 2,
   "metadata": {
    "code_folding": [
     0
    ]
   },
   "outputs": [],
   "source": [
    "# Import built-in modules\n",
    "import sys\n",
    "import platform\n",
    "import os\n",
    "from pathlib import Path\n",
    "import string\n",
    "\n",
    "# Import external modules\n",
    "from IPython import __version__ as IPy_version\n",
    "import IPython.display as ipyd\n",
    "import numpy as np\n",
    "import pandas as pd\n",
    "from sklearn import __version__ as skl_version\n",
    "from sklearn.model_selection import train_test_split\n",
    "import matplotlib as mpl\n",
    "import matplotlib.pyplot as plt\n",
    "from bokeh import __version__ as bk_version\n",
    "from scipy import __version__ as scipy_version\n",
    "from statsmodels import __version__ as sm_version\n",
    "import statsmodels.api as sm\n",
    "import statsmodels.formula.api as smf\n",
    "from patsy import __version__ as patsy_version"
   ]
  },
  {
   "cell_type": "code",
   "execution_count": 3,
   "metadata": {
    "code_folding": [
     0
    ]
   },
   "outputs": [
    {
     "data": {
      "text/html": [
       "\n",
       "    <div class=\"bk-root\">\n",
       "        <a href=\"https://bokeh.org\" target=\"_blank\" class=\"bk-logo bk-logo-small bk-logo-notebook\"></a>\n",
       "        <span id=\"1001\">Loading BokehJS ...</span>\n",
       "    </div>"
      ]
     },
     "metadata": {},
     "output_type": "display_data"
    },
    {
     "data": {
      "application/javascript": [
       "\n",
       "(function(root) {\n",
       "  function now() {\n",
       "    return new Date();\n",
       "  }\n",
       "\n",
       "  var force = true;\n",
       "\n",
       "  if (typeof root._bokeh_onload_callbacks === \"undefined\" || force === true) {\n",
       "    root._bokeh_onload_callbacks = [];\n",
       "    root._bokeh_is_loading = undefined;\n",
       "  }\n",
       "\n",
       "  var JS_MIME_TYPE = 'application/javascript';\n",
       "  var HTML_MIME_TYPE = 'text/html';\n",
       "  var EXEC_MIME_TYPE = 'application/vnd.bokehjs_exec.v0+json';\n",
       "  var CLASS_NAME = 'output_bokeh rendered_html';\n",
       "\n",
       "  /**\n",
       "   * Render data to the DOM node\n",
       "   */\n",
       "  function render(props, node) {\n",
       "    var script = document.createElement(\"script\");\n",
       "    node.appendChild(script);\n",
       "  }\n",
       "\n",
       "  /**\n",
       "   * Handle when an output is cleared or removed\n",
       "   */\n",
       "  function handleClearOutput(event, handle) {\n",
       "    var cell = handle.cell;\n",
       "\n",
       "    var id = cell.output_area._bokeh_element_id;\n",
       "    var server_id = cell.output_area._bokeh_server_id;\n",
       "    // Clean up Bokeh references\n",
       "    if (id != null && id in Bokeh.index) {\n",
       "      Bokeh.index[id].model.document.clear();\n",
       "      delete Bokeh.index[id];\n",
       "    }\n",
       "\n",
       "    if (server_id !== undefined) {\n",
       "      // Clean up Bokeh references\n",
       "      var cmd = \"from bokeh.io.state import curstate; print(curstate().uuid_to_server['\" + server_id + \"'].get_sessions()[0].document.roots[0]._id)\";\n",
       "      cell.notebook.kernel.execute(cmd, {\n",
       "        iopub: {\n",
       "          output: function(msg) {\n",
       "            var id = msg.content.text.trim();\n",
       "            if (id in Bokeh.index) {\n",
       "              Bokeh.index[id].model.document.clear();\n",
       "              delete Bokeh.index[id];\n",
       "            }\n",
       "          }\n",
       "        }\n",
       "      });\n",
       "      // Destroy server and session\n",
       "      var cmd = \"import bokeh.io.notebook as ion; ion.destroy_server('\" + server_id + \"')\";\n",
       "      cell.notebook.kernel.execute(cmd);\n",
       "    }\n",
       "  }\n",
       "\n",
       "  /**\n",
       "   * Handle when a new output is added\n",
       "   */\n",
       "  function handleAddOutput(event, handle) {\n",
       "    var output_area = handle.output_area;\n",
       "    var output = handle.output;\n",
       "\n",
       "    // limit handleAddOutput to display_data with EXEC_MIME_TYPE content only\n",
       "    if ((output.output_type != \"display_data\") || (!output.data.hasOwnProperty(EXEC_MIME_TYPE))) {\n",
       "      return\n",
       "    }\n",
       "\n",
       "    var toinsert = output_area.element.find(\".\" + CLASS_NAME.split(' ')[0]);\n",
       "\n",
       "    if (output.metadata[EXEC_MIME_TYPE][\"id\"] !== undefined) {\n",
       "      toinsert[toinsert.length - 1].firstChild.textContent = output.data[JS_MIME_TYPE];\n",
       "      // store reference to embed id on output_area\n",
       "      output_area._bokeh_element_id = output.metadata[EXEC_MIME_TYPE][\"id\"];\n",
       "    }\n",
       "    if (output.metadata[EXEC_MIME_TYPE][\"server_id\"] !== undefined) {\n",
       "      var bk_div = document.createElement(\"div\");\n",
       "      bk_div.innerHTML = output.data[HTML_MIME_TYPE];\n",
       "      var script_attrs = bk_div.children[0].attributes;\n",
       "      for (var i = 0; i < script_attrs.length; i++) {\n",
       "        toinsert[toinsert.length - 1].firstChild.setAttribute(script_attrs[i].name, script_attrs[i].value);\n",
       "        toinsert[toinsert.length - 1].firstChild.textContent = bk_div.children[0].textContent\n",
       "      }\n",
       "      // store reference to server id on output_area\n",
       "      output_area._bokeh_server_id = output.metadata[EXEC_MIME_TYPE][\"server_id\"];\n",
       "    }\n",
       "  }\n",
       "\n",
       "  function register_renderer(events, OutputArea) {\n",
       "\n",
       "    function append_mime(data, metadata, element) {\n",
       "      // create a DOM node to render to\n",
       "      var toinsert = this.create_output_subarea(\n",
       "        metadata,\n",
       "        CLASS_NAME,\n",
       "        EXEC_MIME_TYPE\n",
       "      );\n",
       "      this.keyboard_manager.register_events(toinsert);\n",
       "      // Render to node\n",
       "      var props = {data: data, metadata: metadata[EXEC_MIME_TYPE]};\n",
       "      render(props, toinsert[toinsert.length - 1]);\n",
       "      element.append(toinsert);\n",
       "      return toinsert\n",
       "    }\n",
       "\n",
       "    /* Handle when an output is cleared or removed */\n",
       "    events.on('clear_output.CodeCell', handleClearOutput);\n",
       "    events.on('delete.Cell', handleClearOutput);\n",
       "\n",
       "    /* Handle when a new output is added */\n",
       "    events.on('output_added.OutputArea', handleAddOutput);\n",
       "\n",
       "    /**\n",
       "     * Register the mime type and append_mime function with output_area\n",
       "     */\n",
       "    OutputArea.prototype.register_mime_type(EXEC_MIME_TYPE, append_mime, {\n",
       "      /* Is output safe? */\n",
       "      safe: true,\n",
       "      /* Index of renderer in `output_area.display_order` */\n",
       "      index: 0\n",
       "    });\n",
       "  }\n",
       "\n",
       "  // register the mime type if in Jupyter Notebook environment and previously unregistered\n",
       "  if (root.Jupyter !== undefined) {\n",
       "    var events = require('base/js/events');\n",
       "    var OutputArea = require('notebook/js/outputarea').OutputArea;\n",
       "\n",
       "    if (OutputArea.prototype.mime_types().indexOf(EXEC_MIME_TYPE) == -1) {\n",
       "      register_renderer(events, OutputArea);\n",
       "    }\n",
       "  }\n",
       "\n",
       "  \n",
       "  if (typeof (root._bokeh_timeout) === \"undefined\" || force === true) {\n",
       "    root._bokeh_timeout = Date.now() + 5000;\n",
       "    root._bokeh_failed_load = false;\n",
       "  }\n",
       "\n",
       "  var NB_LOAD_WARNING = {'data': {'text/html':\n",
       "     \"<div style='background-color: #fdd'>\\n\"+\n",
       "     \"<p>\\n\"+\n",
       "     \"BokehJS does not appear to have successfully loaded. If loading BokehJS from CDN, this \\n\"+\n",
       "     \"may be due to a slow or bad network connection. Possible fixes:\\n\"+\n",
       "     \"</p>\\n\"+\n",
       "     \"<ul>\\n\"+\n",
       "     \"<li>re-rerun `output_notebook()` to attempt to load from CDN again, or</li>\\n\"+\n",
       "     \"<li>use INLINE resources instead, as so:</li>\\n\"+\n",
       "     \"</ul>\\n\"+\n",
       "     \"<code>\\n\"+\n",
       "     \"from bokeh.resources import INLINE\\n\"+\n",
       "     \"output_notebook(resources=INLINE)\\n\"+\n",
       "     \"</code>\\n\"+\n",
       "     \"</div>\"}};\n",
       "\n",
       "  function display_loaded() {\n",
       "    var el = document.getElementById(\"1001\");\n",
       "    if (el != null) {\n",
       "      el.textContent = \"BokehJS is loading...\";\n",
       "    }\n",
       "    if (root.Bokeh !== undefined) {\n",
       "      if (el != null) {\n",
       "        el.textContent = \"BokehJS \" + root.Bokeh.version + \" successfully loaded.\";\n",
       "      }\n",
       "    } else if (Date.now() < root._bokeh_timeout) {\n",
       "      setTimeout(display_loaded, 100)\n",
       "    }\n",
       "  }\n",
       "\n",
       "\n",
       "  function run_callbacks() {\n",
       "    try {\n",
       "      root._bokeh_onload_callbacks.forEach(function(callback) {\n",
       "        if (callback != null)\n",
       "          callback();\n",
       "      });\n",
       "    } finally {\n",
       "      delete root._bokeh_onload_callbacks\n",
       "    }\n",
       "    console.debug(\"Bokeh: all callbacks have finished\");\n",
       "  }\n",
       "\n",
       "  function load_libs(css_urls, js_urls, callback) {\n",
       "    if (css_urls == null) css_urls = [];\n",
       "    if (js_urls == null) js_urls = [];\n",
       "\n",
       "    root._bokeh_onload_callbacks.push(callback);\n",
       "    if (root._bokeh_is_loading > 0) {\n",
       "      console.debug(\"Bokeh: BokehJS is being loaded, scheduling callback at\", now());\n",
       "      return null;\n",
       "    }\n",
       "    if (js_urls == null || js_urls.length === 0) {\n",
       "      run_callbacks();\n",
       "      return null;\n",
       "    }\n",
       "    console.debug(\"Bokeh: BokehJS not loaded, scheduling load and callback at\", now());\n",
       "    root._bokeh_is_loading = css_urls.length + js_urls.length;\n",
       "\n",
       "    function on_load() {\n",
       "      root._bokeh_is_loading--;\n",
       "      if (root._bokeh_is_loading === 0) {\n",
       "        console.debug(\"Bokeh: all BokehJS libraries/stylesheets loaded\");\n",
       "        run_callbacks()\n",
       "      }\n",
       "    }\n",
       "\n",
       "    function on_error() {\n",
       "      console.error(\"failed to load \" + url);\n",
       "    }\n",
       "\n",
       "    for (var i = 0; i < css_urls.length; i++) {\n",
       "      var url = css_urls[i];\n",
       "      const element = document.createElement(\"link\");\n",
       "      element.onload = on_load;\n",
       "      element.onerror = on_error;\n",
       "      element.rel = \"stylesheet\";\n",
       "      element.type = \"text/css\";\n",
       "      element.href = url;\n",
       "      console.debug(\"Bokeh: injecting link tag for BokehJS stylesheet: \", url);\n",
       "      document.body.appendChild(element);\n",
       "    }\n",
       "\n",
       "    const hashes = {\"https://cdn.bokeh.org/bokeh/release/bokeh-2.1.1.min.js\": \"kLr4fYcqcSpbuI95brIH3vnnYCquzzSxHPU6XGQCIkQRGJwhg0StNbj1eegrHs12\", \"https://cdn.bokeh.org/bokeh/release/bokeh-widgets-2.1.1.min.js\": \"xIGPmVtaOm+z0BqfSOMn4lOR6ciex448GIKG4eE61LsAvmGj48XcMQZtKcE/UXZe\", \"https://cdn.bokeh.org/bokeh/release/bokeh-tables-2.1.1.min.js\": \"Dc9u1wF/0zApGIWoBbH77iWEHtdmkuYWG839Uzmv8y8yBLXebjO9ZnERsde5Ln/P\", \"https://cdn.bokeh.org/bokeh/release/bokeh-gl-2.1.1.min.js\": \"cT9JaBz7GiRXdENrJLZNSC6eMNF3nh3fa5fTF51Svp+ukxPdwcU5kGXGPBgDCa2j\"};\n",
       "\n",
       "    for (var i = 0; i < js_urls.length; i++) {\n",
       "      var url = js_urls[i];\n",
       "      var element = document.createElement('script');\n",
       "      element.onload = on_load;\n",
       "      element.onerror = on_error;\n",
       "      element.async = false;\n",
       "      element.src = url;\n",
       "      if (url in hashes) {\n",
       "        element.crossOrigin = \"anonymous\";\n",
       "        element.integrity = \"sha384-\" + hashes[url];\n",
       "      }\n",
       "      console.debug(\"Bokeh: injecting script tag for BokehJS library: \", url);\n",
       "      document.head.appendChild(element);\n",
       "    }\n",
       "  };\n",
       "\n",
       "  function inject_raw_css(css) {\n",
       "    const element = document.createElement(\"style\");\n",
       "    element.appendChild(document.createTextNode(css));\n",
       "    document.body.appendChild(element);\n",
       "  }\n",
       "\n",
       "  \n",
       "  var js_urls = [\"https://cdn.bokeh.org/bokeh/release/bokeh-2.1.1.min.js\", \"https://cdn.bokeh.org/bokeh/release/bokeh-widgets-2.1.1.min.js\", \"https://cdn.bokeh.org/bokeh/release/bokeh-tables-2.1.1.min.js\", \"https://cdn.bokeh.org/bokeh/release/bokeh-gl-2.1.1.min.js\"];\n",
       "  var css_urls = [];\n",
       "  \n",
       "\n",
       "  var inline_js = [\n",
       "    function(Bokeh) {\n",
       "      Bokeh.set_log_level(\"info\");\n",
       "    },\n",
       "    function(Bokeh) {\n",
       "    \n",
       "    \n",
       "    }\n",
       "  ];\n",
       "\n",
       "  function run_inline_js() {\n",
       "    \n",
       "    if (root.Bokeh !== undefined || force === true) {\n",
       "      \n",
       "    for (var i = 0; i < inline_js.length; i++) {\n",
       "      inline_js[i].call(root, root.Bokeh);\n",
       "    }\n",
       "    if (force === true) {\n",
       "        display_loaded();\n",
       "      }} else if (Date.now() < root._bokeh_timeout) {\n",
       "      setTimeout(run_inline_js, 100);\n",
       "    } else if (!root._bokeh_failed_load) {\n",
       "      console.log(\"Bokeh: BokehJS failed to load within specified timeout.\");\n",
       "      root._bokeh_failed_load = true;\n",
       "    } else if (force !== true) {\n",
       "      var cell = $(document.getElementById(\"1001\")).parents('.cell').data().cell;\n",
       "      cell.output_area.append_execute_result(NB_LOAD_WARNING)\n",
       "    }\n",
       "\n",
       "  }\n",
       "\n",
       "  if (root._bokeh_is_loading === 0) {\n",
       "    console.debug(\"Bokeh: BokehJS loaded, going straight to plotting\");\n",
       "    run_inline_js();\n",
       "  } else {\n",
       "    load_libs(css_urls, js_urls, function() {\n",
       "      console.debug(\"Bokeh: BokehJS plotting callback run at\", now());\n",
       "      run_inline_js();\n",
       "    });\n",
       "  }\n",
       "}(window));"
      ],
      "application/vnd.bokehjs_load.v0+json": "\n(function(root) {\n  function now() {\n    return new Date();\n  }\n\n  var force = true;\n\n  if (typeof root._bokeh_onload_callbacks === \"undefined\" || force === true) {\n    root._bokeh_onload_callbacks = [];\n    root._bokeh_is_loading = undefined;\n  }\n\n  \n\n  \n  if (typeof (root._bokeh_timeout) === \"undefined\" || force === true) {\n    root._bokeh_timeout = Date.now() + 5000;\n    root._bokeh_failed_load = false;\n  }\n\n  var NB_LOAD_WARNING = {'data': {'text/html':\n     \"<div style='background-color: #fdd'>\\n\"+\n     \"<p>\\n\"+\n     \"BokehJS does not appear to have successfully loaded. If loading BokehJS from CDN, this \\n\"+\n     \"may be due to a slow or bad network connection. Possible fixes:\\n\"+\n     \"</p>\\n\"+\n     \"<ul>\\n\"+\n     \"<li>re-rerun `output_notebook()` to attempt to load from CDN again, or</li>\\n\"+\n     \"<li>use INLINE resources instead, as so:</li>\\n\"+\n     \"</ul>\\n\"+\n     \"<code>\\n\"+\n     \"from bokeh.resources import INLINE\\n\"+\n     \"output_notebook(resources=INLINE)\\n\"+\n     \"</code>\\n\"+\n     \"</div>\"}};\n\n  function display_loaded() {\n    var el = document.getElementById(\"1001\");\n    if (el != null) {\n      el.textContent = \"BokehJS is loading...\";\n    }\n    if (root.Bokeh !== undefined) {\n      if (el != null) {\n        el.textContent = \"BokehJS \" + root.Bokeh.version + \" successfully loaded.\";\n      }\n    } else if (Date.now() < root._bokeh_timeout) {\n      setTimeout(display_loaded, 100)\n    }\n  }\n\n\n  function run_callbacks() {\n    try {\n      root._bokeh_onload_callbacks.forEach(function(callback) {\n        if (callback != null)\n          callback();\n      });\n    } finally {\n      delete root._bokeh_onload_callbacks\n    }\n    console.debug(\"Bokeh: all callbacks have finished\");\n  }\n\n  function load_libs(css_urls, js_urls, callback) {\n    if (css_urls == null) css_urls = [];\n    if (js_urls == null) js_urls = [];\n\n    root._bokeh_onload_callbacks.push(callback);\n    if (root._bokeh_is_loading > 0) {\n      console.debug(\"Bokeh: BokehJS is being loaded, scheduling callback at\", now());\n      return null;\n    }\n    if (js_urls == null || js_urls.length === 0) {\n      run_callbacks();\n      return null;\n    }\n    console.debug(\"Bokeh: BokehJS not loaded, scheduling load and callback at\", now());\n    root._bokeh_is_loading = css_urls.length + js_urls.length;\n\n    function on_load() {\n      root._bokeh_is_loading--;\n      if (root._bokeh_is_loading === 0) {\n        console.debug(\"Bokeh: all BokehJS libraries/stylesheets loaded\");\n        run_callbacks()\n      }\n    }\n\n    function on_error() {\n      console.error(\"failed to load \" + url);\n    }\n\n    for (var i = 0; i < css_urls.length; i++) {\n      var url = css_urls[i];\n      const element = document.createElement(\"link\");\n      element.onload = on_load;\n      element.onerror = on_error;\n      element.rel = \"stylesheet\";\n      element.type = \"text/css\";\n      element.href = url;\n      console.debug(\"Bokeh: injecting link tag for BokehJS stylesheet: \", url);\n      document.body.appendChild(element);\n    }\n\n    const hashes = {\"https://cdn.bokeh.org/bokeh/release/bokeh-2.1.1.min.js\": \"kLr4fYcqcSpbuI95brIH3vnnYCquzzSxHPU6XGQCIkQRGJwhg0StNbj1eegrHs12\", \"https://cdn.bokeh.org/bokeh/release/bokeh-widgets-2.1.1.min.js\": \"xIGPmVtaOm+z0BqfSOMn4lOR6ciex448GIKG4eE61LsAvmGj48XcMQZtKcE/UXZe\", \"https://cdn.bokeh.org/bokeh/release/bokeh-tables-2.1.1.min.js\": \"Dc9u1wF/0zApGIWoBbH77iWEHtdmkuYWG839Uzmv8y8yBLXebjO9ZnERsde5Ln/P\", \"https://cdn.bokeh.org/bokeh/release/bokeh-gl-2.1.1.min.js\": \"cT9JaBz7GiRXdENrJLZNSC6eMNF3nh3fa5fTF51Svp+ukxPdwcU5kGXGPBgDCa2j\"};\n\n    for (var i = 0; i < js_urls.length; i++) {\n      var url = js_urls[i];\n      var element = document.createElement('script');\n      element.onload = on_load;\n      element.onerror = on_error;\n      element.async = false;\n      element.src = url;\n      if (url in hashes) {\n        element.crossOrigin = \"anonymous\";\n        element.integrity = \"sha384-\" + hashes[url];\n      }\n      console.debug(\"Bokeh: injecting script tag for BokehJS library: \", url);\n      document.head.appendChild(element);\n    }\n  };\n\n  function inject_raw_css(css) {\n    const element = document.createElement(\"style\");\n    element.appendChild(document.createTextNode(css));\n    document.body.appendChild(element);\n  }\n\n  \n  var js_urls = [\"https://cdn.bokeh.org/bokeh/release/bokeh-2.1.1.min.js\", \"https://cdn.bokeh.org/bokeh/release/bokeh-widgets-2.1.1.min.js\", \"https://cdn.bokeh.org/bokeh/release/bokeh-tables-2.1.1.min.js\", \"https://cdn.bokeh.org/bokeh/release/bokeh-gl-2.1.1.min.js\"];\n  var css_urls = [];\n  \n\n  var inline_js = [\n    function(Bokeh) {\n      Bokeh.set_log_level(\"info\");\n    },\n    function(Bokeh) {\n    \n    \n    }\n  ];\n\n  function run_inline_js() {\n    \n    if (root.Bokeh !== undefined || force === true) {\n      \n    for (var i = 0; i < inline_js.length; i++) {\n      inline_js[i].call(root, root.Bokeh);\n    }\n    if (force === true) {\n        display_loaded();\n      }} else if (Date.now() < root._bokeh_timeout) {\n      setTimeout(run_inline_js, 100);\n    } else if (!root._bokeh_failed_load) {\n      console.log(\"Bokeh: BokehJS failed to load within specified timeout.\");\n      root._bokeh_failed_load = true;\n    } else if (force !== true) {\n      var cell = $(document.getElementById(\"1001\")).parents('.cell').data().cell;\n      cell.output_area.append_execute_result(NB_LOAD_WARNING)\n    }\n\n  }\n\n  if (root._bokeh_is_loading === 0) {\n    console.debug(\"Bokeh: BokehJS loaded, going straight to plotting\");\n    run_inline_js();\n  } else {\n    load_libs(css_urls, js_urls, function() {\n      console.debug(\"Bokeh: BokehJS plotting callback run at\", now());\n      run_inline_js();\n    });\n  }\n}(window));"
     },
     "metadata": {},
     "output_type": "display_data"
    }
   ],
   "source": [
    "# Bokeh imports\n",
    "from bokeh.layouts import gridplot\n",
    "from bokeh.plotting import figure, output_file, show, output_notebook\n",
    "from bokeh.models.ranges import Range1d\n",
    "from bokeh.models.axes import LinearAxis\n",
    "\n",
    "# Load Bokeh for use in a notebook\n",
    "from bokeh.io import output_notebook\n",
    "output_notebook()"
   ]
  },
  {
   "cell_type": "code",
   "execution_count": 4,
   "metadata": {
    "code_folding": [
     0
    ]
   },
   "outputs": [],
   "source": [
    "# Configuration variables\n",
    "claims_data_filepath = Path('./train_data.csv')\n",
    "claims_data_filepath2 = Path('./test_data.csv')"
   ]
  },
  {
   "cell_type": "markdown",
   "metadata": {},
   "source": [
    "## Useful functions"
   ]
  },
  {
   "cell_type": "code",
   "execution_count": 5,
   "metadata": {
    "code_folding": [
     0
    ]
   },
   "outputs": [],
   "source": [
    "def score_data(data_df, GLMRes_obj):\n",
    "    raw_exog_names = pd.Series(GLMRes_obj.model.exog_names[1:]).str.split(\n",
    "        '[', expand=True, n=1).iloc[:,0].drop_duplicates().to_list()\n",
    "    scored_df = data_df.assign(\n",
    "        wgt=lambda x: x.ClaimNb,\n",
    "        act_sev=lambda x: x[GLMRes_obj.model.endog_names] / x.wgt,\n",
    "        pred_sev=lambda x: GLMRes_obj.predict(x[raw_exog_names]),\n",
    "        act_pay=lambda x: x[GLMRes_obj.model.endog_names],\n",
    "        pred_pay=lambda x: x.pred_sev * x.wgt,\n",
    "    )\n",
    "    return(scored_df)"
   ]
  },
  {
   "cell_type": "code",
   "execution_count": 6,
   "metadata": {
    "code_folding": [
     0
    ]
   },
   "outputs": [],
   "source": [
    "def get_cut_grps(df, cut_by, n_bins):\n",
    "    if isinstance(n_bins, int):\n",
    "        return(pd.cut(df[cut_by], bins=n_bins))\n",
    "    if n_bins == 'cat':\n",
    "        return(df[cut_by])\n",
    "    if n_bins == 'all':\n",
    "        bins = np.sort(df[cut_by].unique())\n",
    "        offset = np.min(np.diff(bins)) / 2\n",
    "        bins = np.insert(bins, 0, 2*bins[0] - bins[1]) + offset\n",
    "        return(pd.cut(df[cut_by], bins=bins))"
   ]
  },
  {
   "cell_type": "code",
   "execution_count": 7,
   "metadata": {
    "code_folding": [
     0
    ]
   },
   "outputs": [],
   "source": [
    "def get_agg_plot_data(    data_df,order_by = None,    cut_by = None,    x_axis_var = None,    n_bins = None,set_config = None):\n",
    "    # Set defaults\n",
    "    if set_config == \"lift\":\n",
    "        if order_by is None:\n",
    "            order_by = 'pred_sev'\n",
    "        if cut_by is None:\n",
    "            cut_by = 'cum_wgt'\n",
    "        if x_axis_var is None:\n",
    "            x_axis_var = cut_by\n",
    "        if n_bins is None:\n",
    "            n_bins = 10\n",
    "    if cut_by is None:\n",
    "        cut_by = order_by\n",
    "    if x_axis_var is None:\n",
    "        x_axis_var = cut_by\n",
    "\n",
    "    plt_data_df = data_df\\\n",
    "    .rename_axis(index='index').sort_values([order_by, 'index']).assign(\n",
    "        cum_wgt_raw=lambda x: x.wgt.cumsum(),\n",
    "        cum_wgt=lambda x: x.groupby(order_by).cum_wgt_raw.transform('max'),\n",
    "        grp=lambda df: get_cut_grps(df, cut_by, n_bins)\n",
    "    ).groupby('grp', sort=False).agg(\n",
    "        n_obs=('grp', 'size'), \n",
    "        wgt_sum=('wgt', 'sum'),\n",
    "        act_pay=('act_pay', 'sum'),\n",
    "        pred_pay=('pred_pay', 'sum'),\n",
    "        x_min=(x_axis_var, 'min'),\n",
    "        x_max=(x_axis_var, 'max'),\n",
    "    ).pipe(lambda x: (\n",
    "        x.reset_index(drop=True).pipe(lambda x: (\n",
    "            x.set_index(pd.interval_range(start=-0.5, periods=x.shape[0], freq=1.))\n",
    "        )) if n_bins == 'cat' \n",
    "        else x.set_index(x.index.categories)\n",
    "    )).assign(\n",
    "        act_av=lambda x: x.act_pay / x.wgt_sum,\n",
    "        pred_av=lambda x: x.pred_pay / x.wgt_sum,\n",
    "        x_left=lambda x: np.select(\n",
    "            [x.x_min == x.x_max],\n",
    "            [x.index.left], \n",
    "            default=x.x_min\n",
    "        ),\n",
    "        x_right=lambda x: np.select(\n",
    "            [x.x_min == x.x_max],\n",
    "            [x.index.right],\n",
    "            default=x.x_max\n",
    "        ),\n",
    "        x_mid=lambda x: (x.x_right + x.x_left) / 2,\n",
    "    )\n",
    "    return(plt_data_df)"
   ]
  },
  {
   "cell_type": "code",
   "execution_count": 8,
   "metadata": {
    "code_folding": [
     0
    ]
   },
   "outputs": [],
   "source": [
    "def create_plot(plt_data_df, n_bins = None):\n",
    "    bkplt = figure(\n",
    "        title=\"Predicted vs Actual chart\", x_axis_label='Pred val', y_axis_label=\"ClaimNb\", \n",
    "        tools=\"reset,box_zoom,pan,wheel_zoom,save\", background_fill_color=\"#fafafa\",\n",
    "        plot_width=800, plot_height=500\n",
    "    )\n",
    "    bkplt.quad(\n",
    "        top=plt_data_df.wgt_sum, bottom=0, left=plt_data_df.x_left, right=plt_data_df.x_right,\n",
    "        fill_color=\"khaki\", line_color=\"white\", legend_label=\"ClaimNb\"\n",
    "    )\n",
    "    bkplt.y_range=Range1d(0, plt_data_df.wgt_sum.max() / 0.5)\n",
    "\n",
    "    y_range2_name = 'y_range2_name'\n",
    "    bkplt.extra_y_ranges[y_range2_name] = Range1d(\n",
    "        plt_data_df[['act_av', 'pred_av']].min().min(), \n",
    "        plt_data_df[['act_av', 'pred_av']].max().max() / 0.9\n",
    "    )\n",
    "    ax_new = LinearAxis(y_range_name=y_range2_name, axis_label=\"Average response\")\n",
    "    bkplt.add_layout(ax_new, 'right')\n",
    "\n",
    "    for col_name, color in [('pred_av', 'purple'), ('act_av', 'green')]:\n",
    "        bkplt.circle(\n",
    "            plt_data_df.x_mid, plt_data_df[col_name], \n",
    "            color=color, size=4,\n",
    "            y_range_name=y_range2_name,\n",
    "            legend_label=col_name\n",
    "        )\n",
    "        bkplt.line(\n",
    "            plt_data_df.x_mid, plt_data_df[col_name], \n",
    "            color=color, # size=4,\n",
    "            y_range_name=y_range2_name,\n",
    "            legend_label=col_name\n",
    "        )\n",
    "\n",
    "    bkplt.grid.grid_line_color = \"white\"\n",
    "    bkplt.legend.location = \"top_left\"\n",
    "    bkplt.legend.click_policy=\"hide\"\n",
    "\n",
    "    if n_bins == \"cat\":\n",
    "        x_tick_labs = plt_data_df.x_min.astype(str).reset_index(drop=True).to_dict()\n",
    "        bkplt.xaxis.ticker = list(x_tick_labs.keys())\n",
    "        bkplt.xaxis.major_label_overrides = x_tick_labs\n",
    "    \n",
    "    return(bkplt)"
   ]
  },
  {
   "cell_type": "code",
   "execution_count": 9,
   "metadata": {
    "code_folding": [
     0
    ]
   },
   "outputs": [],
   "source": [
    "def get_cat_map_ordered(df, cat_col_name, order_by='act_av_sev'):\n",
    "    res = df.groupby(cat_col_name).agg(\n",
    "        n_obs=(cat_col_name, 'size'),\n",
    "        wgt_sum=('ClaimNb', 'sum'),\n",
    "        act_pay=('payout', 'sum'),\n",
    "    ).assign(\n",
    "        act_av_sev=lambda x: x.act_pay / x.wgt_sum\n",
    "    ).sort_values(\n",
    "        [order_by], ascending=False\n",
    "    ).assign(\n",
    "        all_levels=lambda x: x.reset_index().index\n",
    "    )\n",
    "    return(res)"
   ]
  },
  {
   "cell_type": "code",
   "execution_count": 39,
   "metadata": {
    "code_folding": []
   },
   "outputs": [],
   "source": [
    "def agg_act_pred(df,by_col,type):\n",
    "    if by_col=='Date':\n",
    "        df['YM']=pd.to_datetime(df.Date).dt.to_period('M')\n",
    "        by_col='YM'\n",
    "    if type=='S':\n",
    "        d=pd.DataFrame(df.groupby(by=[by_col]).agg({'payout':'sum','wgt':'sum','pred_sev':'mean'})).reset_index()\n",
    "        d['Act_sev']=d['payout']/d['wgt']\n",
    "        d.rename(columns={'payout':'pay_sum'},inplace=True)\n",
    "        e=pd.DataFrame(df.groupby(by=[by_col]).agg({'payout':'mean'})).reset_index()\n",
    "        e.rename(columns={'payout':'pay_mean'},inplace=True)\n",
    "        d=pd.merge(d,e,on=[by_col],how='left')\n",
    "        del e\n",
    "    if type=='F':\n",
    "        d=pd.DataFrame(df.groupby(by=[by_col]).agg({'ClaimNb':'sum','wgt':'sum','pred_freq':'mean','Actual_premium':'mean'})).reset_index()\n",
    "        d['Act_freq']=d['ClaimNb']/d['wgt']\n",
    "        \n",
    "    return d"
   ]
  },
  {
   "cell_type": "code",
   "execution_count": 12,
   "metadata": {
    "code_folding": [
     0
    ]
   },
   "outputs": [],
   "source": [
    "def get_df_extra(df):\n",
    "    \"\"\"\n",
    "    Given a DataFrame of that contains the raw data columns (and possibly additional columns), \n",
    "    return the DataFrame with additional pre-processed columns\n",
    "    \"\"\"\n",
    "    df_extra = df.copy()\n",
    "    \n",
    "    # Calculate frequency per year on each row\n",
    "    df_extra['Frequency'] = df_extra['ClaimNb'] / df_extra['Exposure']\n",
    "    # Calculate severity per year on each row\n",
    "    df_extra['severity'] = df_extra['payout'] / df_extra['ClaimNb']\n",
    "    # adding the month field\n",
    "    df_extra['Month'] = pd.to_datetime(df_extra.Date,format='%Y-%m-%d').dt.month\n",
    "    \n",
    "    \n",
    "#     Feature engineering (the results of the analysis below)\n",
    "    VehBrand_map_sers = pd.Series({\n",
    "        'B12': 'X', 'B14': 'X', 'B13': 'X','B3': 'X', 'B11': 'X','B4': 'X', 'B5': 'X',\n",
    "        'B1': 'Y', 'B6': 'Y',\n",
    "        'B2': 'Z', 'B10': 'Z'\n",
    "    })\n",
    "\n",
    "\n",
    "    Region_map_sers = pd.Series({\n",
    "        **{reg: 'W' for reg in ['R21', 'R94', 'R11', 'R42', 'R22', 'R74']},\n",
    "        **{reg: 'X' for reg in ['R91', 'R82']},\n",
    "        **{reg: 'Y' for reg in ['R93', 'R53']},\n",
    "        **{reg: 'Z' for reg in ['R26', 'R25', 'R52', 'R31', 'R54', 'R73', \n",
    "                                'R23', 'R72', 'R83', 'R41', 'R43']},\n",
    "        **{reg: 'A' for reg in ['R24']},\n",
    "    })\n",
    "\n",
    "    df_extra = df_extra.assign(\n",
    "        DrivAge_capped=lambda x: np.clip(x.DrivAge, None, 80),\n",
    "        DrivAge_pow2=lambda x: np.power(x.DrivAge_capped, 2),\n",
    "        BonusMalus_over_50=lambda x: np.select([x.BonusMalus > 50], [\"Y\"], default=\"N\"),\n",
    "        BonusMalus_mod3=lambda x: np.floor((np.clip(x.BonusMalus, None, 90) - 48)/3)*3 + 50,\n",
    "        VehAge_new=lambda x: np.select([x.VehAge == 0], [\"Y\"], default=\"N\"),\n",
    "        VehAge_capped=lambda x: np.clip(x.VehAge, None, 18),\n",
    "        VehBrand_grd=lambda x: VehBrand_map_sers.loc[x.VehBrand].values,\n",
    "        Density_log=lambda x: np.log10(np.clip(x.Density, 10, np.power(10, 4))),\n",
    "        Region_grd=lambda x: Region_map_sers.loc[x.Region].values,\n",
    "        \n",
    "    )\n",
    "    \n",
    "    df_extra['REG']=df_extra.Region.apply(lambda x:1 if x=='R24' else 0)\n",
    "                                          \n",
    "    return(df_extra)  \n",
    "                                          \n",
    "def get_df_extra1(df):\n",
    "    df_extra = df.copy()\n",
    "    df_extra = df_extra.assign(\n",
    "        INT_BonusMalus_mod3_Vehpower=df_extra.BonusMalus_mod3 *df_extra.VehPower ,\n",
    "        INT_Region_VehAge=df_extra.REG *df_extra.VehAge_capped      )\n",
    "    return(df_extra) \n",
    "    \n",
    "    \n",
    "# df_train_mod['INT_BonusMalus_mod3_Vehpower']=df_train_mod.BonusMalus_mod3 *df_train_mod.VehPower   \n",
    "# df_train_mod['REG']=df_train_mod['Region_grd'].apply(lambda x: 1 if x=='A' else 0)   \n",
    "# df_train_mod['INT_Region_VehAge']=df_train_mod.REG *df_train_mod.VehAge_capped   "
   ]
  },
  {
   "cell_type": "markdown",
   "metadata": {},
   "source": [
    "# Modelling data"
   ]
  },
  {
   "cell_type": "markdown",
   "metadata": {},
   "source": [
    "## Load data"
   ]
  },
  {
   "cell_type": "code",
   "execution_count": 13,
   "metadata": {
    "code_folding": []
   },
   "outputs": [
    {
     "name": "stdout",
     "output_type": "stream",
     "text": [
      "(488507, 16)\n",
      "(86208, 16)\n"
     ]
    }
   ],
   "source": [
    "# Load full data set\n",
    "df_raw = pd.read_csv(claims_data_filepath, delimiter=',')\n",
    "df_raw1 = pd.read_csv(claims_data_filepath2, delimiter=',')\n",
    "print(df_raw.shape)\n",
    "print(df_raw1.shape)"
   ]
  },
  {
   "cell_type": "code",
   "execution_count": 14,
   "metadata": {},
   "outputs": [
    {
     "name": "stdout",
     "output_type": "stream",
     "text": [
      "(17957, 16)\n",
      "(3123, 16)\n"
     ]
    }
   ],
   "source": [
    "df_raw=df_raw.loc[(df_raw['payout']>0),:]\n",
    "print(df_raw.shape)\n",
    "\n",
    "df_raw1=df_raw1.loc[(df_raw1['payout']>0),:]\n",
    "print(df_raw1.shape)"
   ]
  },
  {
   "cell_type": "code",
   "execution_count": 15,
   "metadata": {},
   "outputs": [
    {
     "name": "stdout",
     "output_type": "stream",
     "text": [
      "Correct: Shape of DataFrame is as expected: 17957 rows, 16 cols\n",
      "Correct: There are no missing values in the raw dataset\n"
     ]
    }
   ],
   "source": [
    "# Check it has loaded OK\n",
    "nRows, nCols = (17957, 16)\n",
    "assert df_raw.shape == (nRows, nCols)\n",
    "print(f\"Correct: Shape of DataFrame is as expected: {nRows} rows, {nCols} cols\")\n",
    "# assert df_raw.dtypes.equals(pd.Series(expected_dtypes)[df_raw.columns])\n",
    "# print(\"Correct: Data types are as expected\")\n",
    "assert df_raw.isna().sum().sum() == 0\n",
    "print(\"Correct: There are no missing values in the raw dataset\")"
   ]
  },
  {
   "cell_type": "markdown",
   "metadata": {},
   "source": [
    "<div align=\"right\" style=\"text-align: right\"><a href=\"#Contents\">Back to Contents</a></div>\n",
    "\n",
    "## Pre-processing"
   ]
  },
  {
   "cell_type": "code",
   "execution_count": 16,
   "metadata": {},
   "outputs": [],
   "source": [
    "# Run pre-processing to get a new DataFrame\n",
    "df_extra = get_df_extra(df_raw)\n",
    "# Run pre-processing to get a new DataFrame\n",
    "df_extra1 = get_df_extra(df_raw1)"
   ]
  },
  {
   "cell_type": "code",
   "execution_count": 17,
   "metadata": {},
   "outputs": [],
   "source": [
    "# Run pre-processing to get a new DataFrame\n",
    "df_extra = get_df_extra1(df_extra)\n",
    "# Run pre-processing to get a new DataFrame\n",
    "df_extra1 = get_df_extra1(df_extra1)"
   ]
  },
  {
   "cell_type": "markdown",
   "metadata": {},
   "source": [
    "# Modelling setup"
   ]
  },
  {
   "cell_type": "markdown",
   "metadata": {},
   "source": [
    "## Setup modelling"
   ]
  },
  {
   "cell_type": "code",
   "execution_count": 18,
   "metadata": {},
   "outputs": [
    {
     "name": "stdout",
     "output_type": "stream",
     "text": [
      "Train sample size: (17957, 31)\n",
      "Test sample size: (3123, 31)\n"
     ]
    }
   ],
   "source": [
    "df_train_mod=df_extra.copy()\n",
    "del df_extra\n",
    "df_test_mod=df_extra1.copy()\n",
    "del df_extra1\n",
    "print(\"Train sample size: \" + str(df_train_mod.shape))\n",
    "\n",
    "print(\"Test sample size: \" + str(df_test_mod.shape))"
   ]
  },
  {
   "cell_type": "code",
   "execution_count": 19,
   "metadata": {
    "code_folding": []
   },
   "outputs": [
    {
     "name": "stdout",
     "output_type": "stream",
     "text": [
      "Explanatory variables\n",
      "Area\tVehPower\tVehGas\tDensity\tRegion\tMonth\tDrivAge_capped\tDrivAge_pow2\tBonusMalus_over_50\tBonusMalus_mod3\tVehAge_new\tVehAge_capped\tVehBrand_grd\tDensity_log\tRegion_grd\tREG\tINT_BonusMalus_mod3_Vehpower\tINT_Region_VehAge\n",
      "\n",
      "Of which the following are simple features\n",
      "Area\tVehPower\tVehAge\tDrivAge\tBonusMalus\tVehBrand\tVehGas\tDensity\tRegion\tMonth\n"
     ]
    }
   ],
   "source": [
    "expl_var_names = [\n",
    "    col_name for col_name in df_train_mod.columns.to_list() \n",
    "     if col_name not in ['IDpol', 'ClaimNb', 'Exposure', 'Frequency','Date','payout','Actual_premium','severity',\n",
    "                         'VehAge','DrivAge','BonusMalus','VehBrand','YM']\n",
    "]\n",
    "print(\"Explanatory variables\\n\" + '\\t'.join(expl_var_names))\n",
    "simple_features = ['Area','VehPower','VehAge','DrivAge','BonusMalus','VehBrand','VehGas','Density','Region','Month']\n",
    "print(\"\\nOf which the following are simple features\\n\" + '\\t'.join(simple_features))"
   ]
  },
  {
   "cell_type": "code",
   "execution_count": 20,
   "metadata": {},
   "outputs": [],
   "source": [
    "# Initialise DataFrame for holding model info\n",
    "mods_df = pd.DataFrame(np.empty(0, dtype=np.dtype([\n",
    "    ('mod_name', np.dtype('O')),\n",
    "    ('descr', np.dtype('O')),\n",
    "    ('GLMResults', np.dtype('O')),\n",
    "])))\n",
    "\n",
    "# Dictionary of scores on the data\n",
    "scored_dfs = dict()"
   ]
  },
  {
   "cell_type": "markdown",
   "metadata": {},
   "source": [
    "<div align=\"right\" style=\"text-align: right\"><a href=\"#Contents\">Back to Contents</a></div>\n",
    "\n",
    "# Simple features model"
   ]
  },
  {
   "cell_type": "markdown",
   "metadata": {},
   "source": [
    "## Fit and score"
   ]
  },
  {
   "cell_type": "code",
   "execution_count": null,
   "metadata": {},
   "outputs": [],
   "source": [
    "# # model fit\n",
    "# mods_df.loc[0, ['mod_name', 'descr']] = [    'All_simple_features',     'All simple features']\n",
    "# mods_df.GLMResults[0] = smf.glm(\n",
    "#     \"payout ~ \" +  ' + '.join(simple_features),\n",
    "#     data=df_train_mod, exposure=np.asarray(df_train_mod['ClaimNb']),\n",
    "#     family=sm.families.Gamma(sm.genmod.families.links.log()),\n",
    "# ).fit()\n",
    "# print(mods_df.GLMResults[0].summary())\n",
    "\n",
    "# # opening a file in 'w'\n",
    "# file = open('GLM_summary_sev_simplefeatures.txt', 'w')\n",
    "# file.write(str(mods_df.GLMResults[0].summary()))\n",
    "# # closing the file\n",
    "# file.close()"
   ]
  },
  {
   "cell_type": "markdown",
   "metadata": {
    "code_folding": []
   },
   "source": [
    "## Visualise fit"
   ]
  },
  {
   "cell_type": "markdown",
   "metadata": {},
   "source": [
    "### Model 0"
   ]
  },
  {
   "cell_type": "code",
   "execution_count": null,
   "metadata": {
    "code_folding": []
   },
   "outputs": [],
   "source": [
    "# # Sample data for visualisations\n",
    "# df_extra_for_plt = score_data(df_test_mod, mods_df.GLMResults[0])\n",
    "# lift_plt_data_df = get_agg_plot_data(df_extra_for_plt, set_config = \"lift\")\n",
    "# lift_plt = create_plot(lift_plt_data_df)\n",
    "# show(lift_plt)\n",
    "\n",
    "# lift_actuals = lift_plt_data_df.act_av.iloc[-1] / lift_plt_data_df.act_av.iloc[0]\n",
    "# lift_pred = lift_plt_data_df.pred_av.iloc[-1] / lift_plt_data_df.pred_av.iloc[0]\n",
    "# print(f'Lift on actuals:\\t{lift_actuals:.3f}')\n",
    "# print(f'Lift on predicted:\\t{lift_pred:.3f}')\n",
    "\n",
    "# # test validation over time\n",
    "# # read test\n",
    "# df_test=pd.read_csv('./test_data.csv')\n",
    "# print(df_test.shape)\n",
    "# # data prep\n",
    "# df_test = get_df_extra(df_test)\n",
    "# print(df_test.shape)\n",
    "# # score\n",
    "# a=score_data(df_test, mods_df.GLMResults[0])\n",
    "# # summary\n",
    "# a=agg_act_pred(a,'YM','S')\n",
    "# plt.figure(figsize=(15,9))\n",
    "# # plt.ylim(.08,.12)\n",
    "# plt.grid()\n",
    "# plt.plot(a.YM,a.Act_sev,color='r',label='Actual SEV')\n",
    "# plt.plot(a.YM,a.pred_sev,color='b',label='Predicted SEV')\n",
    "# plt.legend()"
   ]
  },
  {
   "cell_type": "markdown",
   "metadata": {},
   "source": [
    "# Feature selection\n",
    "\n",
    "Try selecting simple factors in stepwise regression using AIC. We want to minimise the AIC."
   ]
  },
  {
   "cell_type": "markdown",
   "metadata": {},
   "source": [
    "## simple features"
   ]
  },
  {
   "cell_type": "code",
   "execution_count": null,
   "metadata": {
    "code_folding": [
     0
    ]
   },
   "outputs": [],
   "source": [
    "# # The modelling is quite intensive on memory,\n",
    "# # so we need to limit the amount of data used\n",
    "# _, data_swreg_df = train_test_split(df_train_mod,\n",
    "#                                     test_size=0.5,\n",
    "#                                     random_state=98,\n",
    "#                                     shuffle=True)"
   ]
  },
  {
   "cell_type": "code",
   "execution_count": null,
   "metadata": {
    "code_folding": [
     0
    ]
   },
   "outputs": [],
   "source": [
    "# def fit_candidate(\n",
    "#         selected,\n",
    "#         candidate,\n",
    "#         n_step,\n",
    "#         n_iter,  # Adds these values to the model list\n",
    "#         mods_swreg_df,  # Add results to this model list\n",
    "#         data_swreg_df,  # Use this data set\n",
    "#         direction=None,\n",
    "#         verbose=True):\n",
    "#     \"\"\"Fit a model with an additional 'candidate' factor\"\"\"\n",
    "#     if direction is None:\n",
    "#         direction = 'fwd'\n",
    "\n",
    "#     if direction == 'fwd':\n",
    "#         if candidate is \"None\":\n",
    "#             factors_ls = selected\n",
    "#         else:\n",
    "#             factors_ls = selected + [candidate]\n",
    "#     else:\n",
    "#         factors_ls = selected.copy()\n",
    "#         if candidate is not \"None\":\n",
    "#             factors_ls.remove(candidate)\n",
    "\n",
    "#     mods_swreg_df.loc[n_iter, ['step', 'candidate', 'rhs_str']] = [\n",
    "#         n_step, candidate, ' + '.join(['1'] + factors_ls)\n",
    "#     ]\n",
    "\n",
    "#     GLMRes_tmp = smf.glm(\n",
    "#         \"payout ~ \" + mods_swreg_df.loc[n_iter, 'rhs_str'],\n",
    "#         data=data_swreg_df,\n",
    "#         exposure=np.asarray(data_swreg_df['ClaimNb']),\n",
    "#         family=sm.families.Gamma(sm.genmod.families.links.log()),\n",
    "#     ).fit()\n",
    "\n",
    "#     mods_swreg_df.loc[n_iter, 'aic'] = GLMRes_tmp.aic\n",
    "#     mods_swreg_df.loc[n_iter, 'df_model'] = GLMRes_tmp.df_model\n",
    "#     GLMRes_tmp.remove_data()  # Clear up to save RAM\n",
    "#     mods_swreg_df.loc[n_iter, 'GLMResults'] = GLMRes_tmp\n",
    "\n",
    "#     if verbose:\n",
    "#         print(f\"Iter: {n_iter:<2}\\t\"\n",
    "#               f\"Candidate: {candidate:<10}\\t\"\n",
    "#               f\"AIC: {mods_swreg_df.loc[n_iter, 'aic']:.1f}\")\n",
    "\n",
    "#     return (mods_swreg_df)"
   ]
  },
  {
   "cell_type": "code",
   "execution_count": null,
   "metadata": {
    "code_folding": [
     0
    ]
   },
   "outputs": [],
   "source": [
    "# # Initialise DataFrame for holding model info\n",
    "# mods_swreg_df = pd.DataFrame(\n",
    "#     np.empty(int(0),\n",
    "#              dtype=np.dtype([\n",
    "#                  ('step', np.dtype('int64')),\n",
    "#                  ('candidate', np.dtype('O')),\n",
    "#                  ('rhs_str', np.dtype('O')),\n",
    "#                  ('GLMResults', np.dtype('O')),\n",
    "#                  ('df_model', np.dtype('int64')),\n",
    "#                  ('aic', np.dtype('float64')),\n",
    "#              ])))\n",
    "\n",
    "# n_iter = 0\n",
    "# n_step = 0\n",
    "# remaining = simple_features.copy()\n",
    "# direction = 'fwd'\n",
    "# if direction == 'fwd':\n",
    "#     selected = []\n",
    "# else:\n",
    "#     selected = remaining.copy()\n",
    "# go_to_next_step = True"
   ]
  },
  {
   "cell_type": "code",
   "execution_count": null,
   "metadata": {
    "code_folding": [
     0
    ]
   },
   "outputs": [],
   "source": [
    "# run_this_chunk = True\n",
    "# if run_this_chunk:\n",
    "\n",
    "#     # The below loop does not cover the initial model\n",
    "#     # Takes approx 4 mins\n",
    "#     mods_swreg_df = fit_candidate(selected=selected,\n",
    "#                                   candidate=\"None\",\n",
    "#                                   n_step=n_step,\n",
    "#                                   n_iter=n_iter,\n",
    "#                                   mods_swreg_df=mods_swreg_df,\n",
    "#                                   data_swreg_df=data_swreg_df,\n",
    "#                                   direction=direction,\n",
    "#                                   verbose=True)\n",
    "\n",
    "#     while remaining and go_to_next_step:\n",
    "#         n_step += 1\n",
    "#         go_to_next_step = False\n",
    "#         print(f\"==== Step {n_step:02} ====\\n\"\n",
    "#               f\"Already selected: {', '.join(selected)}\\n\"\n",
    "#               f\"Remaining: {', '.join(remaining)}\")\n",
    "\n",
    "#         for candidate in remaining:\n",
    "#             n_iter += 1\n",
    "#             mods_swreg_df = fit_candidate(selected,\n",
    "#                                           candidate,\n",
    "#                                           n_step,\n",
    "#                                           n_iter,\n",
    "#                                           mods_swreg_df,\n",
    "#                                           data_swreg_df,\n",
    "#                                           direction=direction,\n",
    "#                                           verbose=True)\n",
    "\n",
    "#         mods_swreg_df = mods_swreg_df.sort_values(['step', 'aic', 'rhs_str'\n",
    "#                                                    ]).reset_index(drop=True)\n",
    "#         best_aic_so_far = mods_swreg_df.aic.min()\n",
    "#         best_in_step = mods_swreg_df.query(f\"step == {n_step}\")[[\n",
    "#             'candidate', 'aic'\n",
    "#         ]].iloc[0]\n",
    "\n",
    "#         if best_in_step.aic == best_aic_so_far:\n",
    "#             if direction == 'fwd':\n",
    "#                 selected.append(best_in_step.candidate)\n",
    "#             else:\n",
    "#                 selected.remove(best_in_step.candidate)\n",
    "#             remaining.remove(best_in_step.candidate)\n",
    "#             print(f\"Step {n_step:02} \"\n",
    "#                   f\"selected: {best_in_step.candidate:<10} \"\n",
    "#                   f\"(AIC: {best_in_step.aic:.1f})\")\n",
    "#             go_to_next_step = True\n",
    "#         else:\n",
    "#             print(f\"Step {n_step:02} \"\n",
    "#                   f\"selected: None\\n\"\n",
    "#                   f\"==== Stepwise regression complete ====\")"
   ]
  },
  {
   "cell_type": "code",
   "execution_count": null,
   "metadata": {
    "code_folding": [
     0
    ]
   },
   "outputs": [],
   "source": [
    "# # Save and view results\n",
    "# if run_this_chunk:\n",
    "#     mods_fw_swreg_df = mods_swreg_df.copy()\n",
    "#     best_mod = mods_fw_swreg_df.query(\n",
    "#         \"aic == @mods_fw_swreg_df.aic.min()\").iloc[0]\n",
    "#     print(\"Best model for forward regression:\")\n",
    "#     print(\"-\" * 40)\n",
    "#     print(\"Formula:\\t\" + best_mod.rhs_str + \"\\n\"\n",
    "#           f\"aic:\\t\\t{best_mod.aic:.2f}\\n\"\n",
    "#           f\"df_model:\\t{int(best_mod.df_model)}\")"
   ]
  },
  {
   "cell_type": "markdown",
   "metadata": {
    "heading_collapsed": true
   },
   "source": [
    "## extra features"
   ]
  },
  {
   "cell_type": "code",
   "execution_count": null,
   "metadata": {
    "hidden": true
   },
   "outputs": [],
   "source": [
    "# The modelling is quite intensive on memory,\n",
    "# so we need to limit the amount of data used\n",
    "_, data_swreg_df = train_test_split(df_train_mod,\n",
    "                                    test_size=0.5,\n",
    "                                    random_state=98,\n",
    "                                    shuffle=True)"
   ]
  },
  {
   "cell_type": "code",
   "execution_count": null,
   "metadata": {
    "code_folding": [],
    "hidden": true
   },
   "outputs": [],
   "source": [
    "def fit_candidate(\n",
    "        selected,\n",
    "        candidate,\n",
    "        n_step,\n",
    "        n_iter,  # Adds these values to the model list\n",
    "        mods_swreg_df,  # Add results to this model list\n",
    "        data_swreg_df,  # Use this data set\n",
    "        direction=None,\n",
    "        verbose=True):\n",
    "    \"\"\"Fit a model with an additional 'candidate' factor\"\"\"\n",
    "    if direction is None:\n",
    "        direction = 'fwd'\n",
    "\n",
    "    if direction == 'fwd':\n",
    "        if candidate is \"None\":\n",
    "            factors_ls = selected\n",
    "        else:\n",
    "            factors_ls = selected + [candidate]\n",
    "    else:\n",
    "        factors_ls = selected.copy()\n",
    "        if candidate is not \"None\":\n",
    "            factors_ls.remove(candidate)\n",
    "\n",
    "    mods_swreg_df.loc[n_iter, ['step', 'candidate', 'rhs_str']] = [\n",
    "        n_step, candidate, ' + '.join(['1'] + factors_ls)\n",
    "    ]\n",
    "\n",
    "    GLMRes_tmp = smf.glm(\n",
    "        \"payout ~ \" + mods_swreg_df.loc[n_iter, 'rhs_str'],\n",
    "        data=data_swreg_df,\n",
    "        exposure=np.asarray(data_swreg_df['ClaimNb']),\n",
    "        family=sm.families.Gamma(sm.genmod.families.links.log()),\n",
    "    ).fit()\n",
    "\n",
    "    mods_swreg_df.loc[n_iter, 'aic'] = GLMRes_tmp.aic\n",
    "    mods_swreg_df.loc[n_iter, 'df_model'] = GLMRes_tmp.df_model\n",
    "    GLMRes_tmp.remove_data()  # Clear up to save RAM\n",
    "    mods_swreg_df.loc[n_iter, 'GLMResults'] = GLMRes_tmp\n",
    "\n",
    "    if verbose:\n",
    "        print(f\"Iter: {n_iter:<2}\\t\"\n",
    "              f\"Candidate: {candidate:<10}\\t\"\n",
    "              f\"AIC: {mods_swreg_df.loc[n_iter, 'aic']:.1f}\")\n",
    "\n",
    "    return (mods_swreg_df)"
   ]
  },
  {
   "cell_type": "code",
   "execution_count": null,
   "metadata": {
    "hidden": true
   },
   "outputs": [],
   "source": [
    "# Initialise DataFrame for holding model info\n",
    "mods_swreg_df = pd.DataFrame(\n",
    "    np.empty(int(0),\n",
    "             dtype=np.dtype([\n",
    "                 ('step', np.dtype('int64')),\n",
    "                 ('candidate', np.dtype('O')),\n",
    "                 ('rhs_str', np.dtype('O')),\n",
    "                 ('GLMResults', np.dtype('O')),\n",
    "                 ('df_model', np.dtype('int64')),\n",
    "                 ('aic', np.dtype('float64')),\n",
    "             ])))\n",
    "\n",
    "n_iter = 0\n",
    "n_step = 0\n",
    "remaining = expl_var_names.copy()\n",
    "direction = 'fwd'\n",
    "if direction == 'fwd':\n",
    "    selected = []\n",
    "else:\n",
    "    selected = remaining.copy()\n",
    "go_to_next_step = True"
   ]
  },
  {
   "cell_type": "code",
   "execution_count": null,
   "metadata": {
    "hidden": true
   },
   "outputs": [],
   "source": [
    "run_this_chunk = True\n",
    "if run_this_chunk:\n",
    "\n",
    "    # The below loop does not cover the initial model\n",
    "    # Takes approx 4 mins\n",
    "    mods_swreg_df = fit_candidate(selected=selected,\n",
    "                                  candidate=\"None\",\n",
    "                                  n_step=n_step,\n",
    "                                  n_iter=n_iter,\n",
    "                                  mods_swreg_df=mods_swreg_df,\n",
    "                                  data_swreg_df=data_swreg_df,\n",
    "                                  direction=direction,\n",
    "                                  verbose=True)\n",
    "\n",
    "    while remaining and go_to_next_step:\n",
    "        n_step += 1\n",
    "        go_to_next_step = False\n",
    "        print(f\"==== Step {n_step:02} ====\\n\"\n",
    "              f\"Already selected: {', '.join(selected)}\\n\"\n",
    "              f\"Remaining: {', '.join(remaining)}\")\n",
    "\n",
    "        for candidate in remaining:\n",
    "            n_iter += 1\n",
    "            mods_swreg_df = fit_candidate(selected,\n",
    "                                          candidate,\n",
    "                                          n_step,\n",
    "                                          n_iter,\n",
    "                                          mods_swreg_df,\n",
    "                                          data_swreg_df,\n",
    "                                          direction=direction,\n",
    "                                          verbose=True)\n",
    "\n",
    "        mods_swreg_df = mods_swreg_df.sort_values(['step', 'aic', 'rhs_str'\n",
    "                                                   ]).reset_index(drop=True)\n",
    "        best_aic_so_far = mods_swreg_df.aic.min()\n",
    "        best_in_step = mods_swreg_df.query(f\"step == {n_step}\")[[\n",
    "            'candidate', 'aic'\n",
    "        ]].iloc[0]\n",
    "\n",
    "        if best_in_step.aic == best_aic_so_far:\n",
    "            if direction == 'fwd':\n",
    "                selected.append(best_in_step.candidate)\n",
    "            else:\n",
    "                selected.remove(best_in_step.candidate)\n",
    "            remaining.remove(best_in_step.candidate)\n",
    "            print(f\"Step {n_step:02} \"\n",
    "                  f\"selected: {best_in_step.candidate:<10} \"\n",
    "                  f\"(AIC: {best_in_step.aic:.1f})\")\n",
    "            go_to_next_step = True\n",
    "        else:\n",
    "            print(f\"Step {n_step:02} \"\n",
    "                  f\"selected: None\\n\"\n",
    "                  f\"==== Stepwise regression complete ====\")"
   ]
  },
  {
   "cell_type": "code",
   "execution_count": null,
   "metadata": {
    "hidden": true
   },
   "outputs": [],
   "source": [
    "# Save and view results\n",
    "if run_this_chunk:\n",
    "    mods_fw_swreg_df = mods_swreg_df.copy()\n",
    "    best_mod = mods_fw_swreg_df.query(\n",
    "        \"aic == @mods_fw_swreg_df.aic.min()\").iloc[0]\n",
    "    print(\"Best model for forward regression:\")\n",
    "    print(\"-\" * 40)\n",
    "    print(\"Formula:\\t\" + best_mod.rhs_str + \"\\n\"\n",
    "          f\"aic:\\t\\t{best_mod.aic:.2f}\\n\"\n",
    "          f\"df_model:\\t{int(best_mod.df_model)}\")"
   ]
  },
  {
   "cell_type": "markdown",
   "metadata": {},
   "source": [
    "# Fit and score -selected features"
   ]
  },
  {
   "cell_type": "code",
   "execution_count": null,
   "metadata": {
    "code_folding": [
     0
    ]
   },
   "outputs": [],
   "source": [
    "# print(expl_var_names)\n",
    "# # model fit\n",
    "# mods_df.loc[1, ['mod_name', 'descr']] = [    'All_simple_features',     'All simple features']\n",
    "# mods_df.GLMResults[1] = smf.glm(\n",
    "#     \"payout ~ \" +  ' + '.join(expl_var_names),\n",
    "#     data=df_train_mod, exposure=np.asarray(df_train_mod['ClaimNb']),\n",
    "#     family=sm.families.Gamma(sm.genmod.families.links.log()),\n",
    "# ).fit()\n",
    "# print(mods_df.GLMResults[1].summary())\n",
    "\n",
    "# # save the model results\n",
    "# file = open('GLM_summary_sev_EF.txt', 'w')\n",
    "# file.write(str(mods_df.GLMResults[1].summary()))\n",
    "# file.close()"
   ]
  },
  {
   "cell_type": "code",
   "execution_count": null,
   "metadata": {
    "code_folding": [
     0
    ]
   },
   "outputs": [],
   "source": [
    "# SF1 = [ 'VehBrand', 'Region', 'BonusMalus', 'Area', 'Month', 'VehAge', 'Density',  'DrivAge']\n",
    "# # model fit\n",
    "# mods_df.loc[2, ['mod_name', 'descr']] = [    'All_simple_features',     'All simple features']\n",
    "# mods_df.GLMResults[2] = smf.glm(\n",
    "#     \"payout ~ \" +  ' + '.join(SF1),\n",
    "#     data=df_train_mod, exposure=np.asarray(df_train_mod['ClaimNb']),\n",
    "#     family=sm.families.Gamma(sm.genmod.families.links.log()),\n",
    "# ).fit()\n",
    "# print(mods_df.GLMResults[2].summary())\n",
    "\n",
    "# # save the model results\n",
    "# file = open('GLM_summary_sev_SF1.txt', 'w')\n",
    "# file.write(str(mods_df.GLMResults[2].summary()))\n",
    "# file.close()"
   ]
  },
  {
   "cell_type": "code",
   "execution_count": 21,
   "metadata": {},
   "outputs": [
    {
     "name": "stdout",
     "output_type": "stream",
     "text": [
      "                 Generalized Linear Model Regression Results                  \n",
      "==============================================================================\n",
      "Dep. Variable:                 payout   No. Observations:                17957\n",
      "Model:                            GLM   Df Residuals:                    17951\n",
      "Model Family:                   Gamma   Df Model:                            5\n",
      "Link Function:                    log   Scale:                          43.152\n",
      "Method:                          IRLS   Log-Likelihood:            -1.9351e+05\n",
      "Date:                Tue, 02 Feb 2021   Deviance:                       28021.\n",
      "Time:                        21:00:26   Pearson chi2:                 7.75e+05\n",
      "No. Iterations:                    39                                         \n",
      "Covariance Type:            nonrobust                                         \n",
      "================================================================================================\n",
      "                                   coef    std err          z      P>|z|      [0.025      0.975]\n",
      "------------------------------------------------------------------------------------------------\n",
      "Intercept                        8.6768      0.502     17.269      0.000       7.692       9.662\n",
      "DrivAge_pow2                     0.0007      0.000      3.466      0.001       0.000       0.001\n",
      "DrivAge_capped                  -0.0682      0.019     -3.540      0.000      -0.106      -0.030\n",
      "Month                            0.0183      0.014      1.270      0.204      -0.010       0.047\n",
      "INT_Region_VehAge                0.0269      0.011      2.433      0.015       0.005       0.048\n",
      "INT_BonusMalus_mod3_Vehpower     0.0008      0.000      2.547      0.011       0.000       0.001\n",
      "================================================================================================\n"
     ]
    }
   ],
   "source": [
    "# FREQ_SF1 = ['DrivAge_capped', 'DrivAge_pow2', 'BonusMalus_over_50', 'BonusMalus_mod3', 'VehAge_new', 'VehAge_capped', \n",
    "#         'Density_log', 'Region_grd', 'Month', 'VehGas']\n",
    "\n",
    "FREQ_SF1 = ['DrivAge_pow2','DrivAge_capped','Month','INT_Region_VehAge','INT_BonusMalus_mod3_Vehpower']\n",
    "\n",
    "# model fit\n",
    "mods_df.loc[3, ['mod_name', 'descr']] = [    'All_simple_features',     'All simple features']\n",
    "mods_df.GLMResults[3] = smf.glm(\n",
    "    \"payout ~ \" +  ' + '.join(FREQ_SF1),\n",
    "    data=df_train_mod, exposure=np.asarray(df_train_mod['ClaimNb']),\n",
    "    family=sm.families.Gamma(sm.genmod.families.links.log()),\n",
    ").fit()\n",
    "print(mods_df.GLMResults[3].summary())\n",
    "\n",
    "# save the model results\n",
    "file = open('GLM_summary_sev_FREQ_SF1.txt', 'w')\n",
    "file.write(str(mods_df.GLMResults[3].summary()))\n",
    "file.close()"
   ]
  },
  {
   "cell_type": "markdown",
   "metadata": {},
   "source": [
    "## Visualise fit "
   ]
  },
  {
   "cell_type": "markdown",
   "metadata": {},
   "source": [
    "### Model1"
   ]
  },
  {
   "cell_type": "code",
   "execution_count": 23,
   "metadata": {
    "code_folding": [
     0
    ]
   },
   "outputs": [],
   "source": [
    "# # Sample data for visualisations\n",
    "# df_extra_for_plt = score_data(df_test_mod, mods_df.GLMResults[1])\n",
    "# lift_plt_data_df = get_agg_plot_data(df_extra_for_plt, set_config = \"lift\")\n",
    "# lift_plt = create_plot(lift_plt_data_df)\n",
    "# show(lift_plt)\n",
    "\n",
    "# lift_actuals = lift_plt_data_df.act_av.iloc[-1] / lift_plt_data_df.act_av.iloc[0]\n",
    "# lift_pred = lift_plt_data_df.pred_av.iloc[-1] / lift_plt_data_df.pred_av.iloc[0]\n",
    "# print(f'Lift on actuals:\\t{lift_actuals:.3f}')\n",
    "# print(f'Lift on predicted:\\t{lift_pred:.3f}')\n",
    "\n",
    "# # test validation over time\n",
    "# # read test\n",
    "# df_test=pd.read_csv('./test_data.csv')\n",
    "# print(df_test.shape)\n",
    "# # data prep\n",
    "# df_test = get_df_extra(df_test)\n",
    "# print(df_test.shape)\n",
    "# # score\n",
    "# a=score_data(df_test, mods_df.GLMResults[1])\n",
    "# # summary\n",
    "# a=agg_act_pred(a,'YM','S')\n",
    "# plt.figure(figsize=(15,9))\n",
    "# # plt.ylim(.08,.12)\n",
    "# plt.grid()\n",
    "# plt.plot(a.YM,a.Act_sev,color='r',label='Actual SEV')\n",
    "# plt.plot(a.YM,a.pred_sev,color='b',label='Predicted SEV')\n",
    "# plt.legend()"
   ]
  },
  {
   "cell_type": "markdown",
   "metadata": {},
   "source": [
    "### Model2"
   ]
  },
  {
   "cell_type": "code",
   "execution_count": null,
   "metadata": {
    "code_folding": [
     0
    ]
   },
   "outputs": [],
   "source": [
    "# # Sample data for visualisations\n",
    "# df_extra_for_plt = score_data(df_test_mod, mods_df.GLMResults[2])\n",
    "# lift_plt_data_df = get_agg_plot_data(df_extra_for_plt, set_config = \"lift\")\n",
    "# lift_plt = create_plot(lift_plt_data_df)\n",
    "# show(lift_plt)\n",
    "\n",
    "# lift_actuals = lift_plt_data_df.act_av.iloc[-1] / lift_plt_data_df.act_av.iloc[0]\n",
    "# lift_pred = lift_plt_data_df.pred_av.iloc[-1] / lift_plt_data_df.pred_av.iloc[0]\n",
    "# print(f'Lift on actuals:\\t{lift_actuals:.3f}')\n",
    "# print(f'Lift on predicted:\\t{lift_pred:.3f}')\n",
    "\n",
    "# # test validation over time\n",
    "# # read test\n",
    "# df_test=pd.read_csv('./test_data.csv')\n",
    "# print(df_test.shape)\n",
    "# # data prep\n",
    "# df_test = get_df_extra(df_test)\n",
    "# print(df_test.shape)\n",
    "# # score\n",
    "# a=score_data(df_test, mods_df.GLMResults[2])\n",
    "# # summary\n",
    "# a=agg_act_pred(a,'YM','S')\n",
    "# plt.figure(figsize=(15,9))\n",
    "# # plt.ylim(.08,.12)\n",
    "# plt.grid()\n",
    "# plt.plot(a.YM,a.Act_sev,color='r',label='Actual SEV')\n",
    "# plt.plot(a.YM,a.pred_sev,color='b',label='Predicted SEV')\n",
    "# plt.legend()"
   ]
  },
  {
   "cell_type": "markdown",
   "metadata": {},
   "source": [
    "### Model3"
   ]
  },
  {
   "cell_type": "code",
   "execution_count": 40,
   "metadata": {
    "code_folding": []
   },
   "outputs": [
    {
     "data": {
      "text/html": [
       "\n",
       "\n",
       "\n",
       "\n",
       "\n",
       "\n",
       "  <div class=\"bk-root\" id=\"a3abfc15-76ea-4956-90c9-c611dc180a8f\" data-root-id=\"2467\"></div>\n"
      ]
     },
     "metadata": {},
     "output_type": "display_data"
    },
    {
     "data": {
      "application/javascript": [
       "(function(root) {\n",
       "  function embed_document(root) {\n",
       "    \n",
       "  var docs_json = {\"5f0fbe36-4ea0-4874-9deb-c989049bfe7c\":{\"roots\":{\"references\":[{\"attributes\":{\"background_fill_color\":\"#fafafa\",\"below\":[{\"id\":\"2478\"}],\"center\":[{\"id\":\"2481\"},{\"id\":\"2485\"},{\"id\":\"2511\"}],\"extra_y_ranges\":{\"y_range2_name\":{\"id\":\"2514\"}},\"left\":[{\"id\":\"2482\"}],\"plot_height\":500,\"plot_width\":800,\"renderers\":[{\"id\":\"2501\"},{\"id\":\"2519\"},{\"id\":\"2537\"},{\"id\":\"2556\"},{\"id\":\"2578\"}],\"right\":[{\"id\":\"2515\"}],\"title\":{\"id\":\"2468\"},\"toolbar\":{\"id\":\"2492\"},\"x_range\":{\"id\":\"2470\"},\"x_scale\":{\"id\":\"2474\"},\"y_range\":{\"id\":\"2513\"},\"y_scale\":{\"id\":\"2476\"}},\"id\":\"2467\",\"subtype\":\"Figure\",\"type\":\"Plot\"},{\"attributes\":{},\"id\":\"2483\",\"type\":\"BasicTicker\"},{\"attributes\":{\"data\":{\"left\":{\"__ndarray__\":\"AAAAAAAA8D8AAAAAAOB0QAAAAAAA0IRAAAAAAAA4j0AAAAAAAMyUQAAAAAAABJpAAAAAAAAwn0AAAAAAADCiQAAAAAAAyqRAAAAAAABip0A=\",\"dtype\":\"float64\",\"order\":\"little\",\"shape\":[10]},\"right\":{\"__ndarray__\":\"AAAAAADQdEAAAAAAAMiEQAAAAAAAMI9AAAAAAADIlEAAAAAAAPyZQAAAAAAALJ9AAAAAAAAuokAAAAAAAMakQAAAAAAAWqdAAAAAAAD6qUA=\",\"dtype\":\"float64\",\"order\":\"little\",\"shape\":[10]},\"top\":[333,332,333,332,333,332,332,332,330,336]},\"selected\":{\"id\":\"2509\"},\"selection_policy\":{\"id\":\"2508\"}},\"id\":\"2498\",\"type\":\"ColumnDataSource\"},{\"attributes\":{\"bottom\":{\"value\":0},\"fill_color\":{\"value\":\"khaki\"},\"left\":{\"field\":\"left\"},\"line_color\":{\"value\":\"white\"},\"right\":{\"field\":\"right\"},\"top\":{\"field\":\"top\"}},\"id\":\"2499\",\"type\":\"Quad\"},{\"attributes\":{\"line_color\":\"purple\",\"x\":{\"field\":\"x\"},\"y\":{\"field\":\"y\"}},\"id\":\"2535\",\"type\":\"Line\"},{\"attributes\":{\"fill_color\":{\"value\":\"green\"},\"line_color\":{\"value\":\"green\"},\"x\":{\"field\":\"x\"},\"y\":{\"field\":\"y\"}},\"id\":\"2554\",\"type\":\"Circle\"},{\"attributes\":{\"active_drag\":\"auto\",\"active_inspect\":\"auto\",\"active_multi\":null,\"active_scroll\":\"auto\",\"active_tap\":\"auto\",\"tools\":[{\"id\":\"2486\"},{\"id\":\"2487\"},{\"id\":\"2488\"},{\"id\":\"2489\"},{\"id\":\"2490\"}]},\"id\":\"2492\",\"type\":\"Toolbar\"},{\"attributes\":{\"data\":{\"x\":{\"__ndarray__\":\"AAAAAADgZEAAAAAAADh/QAAAAAAAAIpAAAAAAAAykkAAAAAAAGSXQAAAAAAAmJxAAAAAAADjoEAAAAAAAHujQAAAAAAAEqZAAAAAAACuqEA=\",\"dtype\":\"float64\",\"order\":\"little\",\"shape\":[10]},\"y\":{\"__ndarray__\":\"8hQrm0JjokCklfnbqyuVQKuxFgZyX59Amjq/9pBMnECLw1UfgZ6aQLH6MImY16FAKLtpZT6+l0DuBAgtySGnQBh4ZYGXnqRAIPwn5qwnukA=\",\"dtype\":\"float64\",\"order\":\"little\",\"shape\":[10]}},\"selected\":{\"id\":\"2572\"},\"selection_policy\":{\"id\":\"2571\"}},\"id\":\"2553\",\"type\":\"ColumnDataSource\"},{\"attributes\":{\"bottom\":{\"value\":0},\"fill_alpha\":{\"value\":0.1},\"fill_color\":{\"value\":\"khaki\"},\"left\":{\"field\":\"left\"},\"line_alpha\":{\"value\":0.1},\"line_color\":{\"value\":\"white\"},\"right\":{\"field\":\"right\"},\"top\":{\"field\":\"top\"}},\"id\":\"2500\",\"type\":\"Quad\"},{\"attributes\":{\"click_policy\":\"hide\",\"items\":[{\"id\":\"2512\"},{\"id\":\"2533\"},{\"id\":\"2574\"}],\"location\":\"top_left\"},\"id\":\"2511\",\"type\":\"Legend\"},{\"attributes\":{\"end\":672.0},\"id\":\"2513\",\"type\":\"Range1d\"},{\"attributes\":{\"data_source\":{\"id\":\"2553\"},\"glyph\":{\"id\":\"2554\"},\"hover_glyph\":null,\"muted_glyph\":null,\"nonselection_glyph\":{\"id\":\"2555\"},\"selection_glyph\":null,\"view\":{\"id\":\"2557\"},\"y_range_name\":\"y_range2_name\"},\"id\":\"2556\",\"type\":\"GlyphRenderer\"},{\"attributes\":{},\"id\":\"2595\",\"type\":\"UnionRenderers\"},{\"attributes\":{},\"id\":\"2596\",\"type\":\"Selection\"},{\"attributes\":{\"label\":{\"value\":\"act_av\"},\"renderers\":[{\"id\":\"2556\"},{\"id\":\"2578\"}]},\"id\":\"2574\",\"type\":\"LegendItem\"},{\"attributes\":{\"source\":{\"id\":\"2498\"}},\"id\":\"2502\",\"type\":\"CDSView\"},{\"attributes\":{\"data_source\":{\"id\":\"2498\"},\"glyph\":{\"id\":\"2499\"},\"hover_glyph\":null,\"muted_glyph\":null,\"nonselection_glyph\":{\"id\":\"2500\"},\"selection_glyph\":null,\"view\":{\"id\":\"2502\"}},\"id\":\"2501\",\"type\":\"GlyphRenderer\"},{\"attributes\":{\"source\":{\"id\":\"2553\"}},\"id\":\"2557\",\"type\":\"CDSView\"},{\"attributes\":{},\"id\":\"2524\",\"type\":\"BasicTicker\"},{\"attributes\":{},\"id\":\"2525\",\"type\":\"BasicTickFormatter\"},{\"attributes\":{\"line_color\":\"green\",\"x\":{\"field\":\"x\"},\"y\":{\"field\":\"y\"}},\"id\":\"2576\",\"type\":\"Line\"},{\"attributes\":{},\"id\":\"2508\",\"type\":\"UnionRenderers\"},{\"attributes\":{\"axis\":{\"id\":\"2478\"},\"grid_line_color\":\"white\",\"ticker\":null},\"id\":\"2481\",\"type\":\"Grid\"},{\"attributes\":{},\"id\":\"2509\",\"type\":\"Selection\"},{\"attributes\":{\"axis_label\":\"Pred val\",\"formatter\":{\"id\":\"2507\"},\"ticker\":{\"id\":\"2479\"}},\"id\":\"2478\",\"type\":\"LinearAxis\"},{\"attributes\":{\"source\":{\"id\":\"2534\"}},\"id\":\"2538\",\"type\":\"CDSView\"},{\"attributes\":{},\"id\":\"2488\",\"type\":\"PanTool\"},{\"attributes\":{},\"id\":\"2474\",\"type\":\"LinearScale\"},{\"attributes\":{\"axis\":{\"id\":\"2482\"},\"dimension\":1,\"grid_line_color\":\"white\",\"ticker\":null},\"id\":\"2485\",\"type\":\"Grid\"},{\"attributes\":{},\"id\":\"2571\",\"type\":\"UnionRenderers\"},{\"attributes\":{\"data_source\":{\"id\":\"2534\"},\"glyph\":{\"id\":\"2535\"},\"hover_glyph\":null,\"muted_glyph\":null,\"nonselection_glyph\":{\"id\":\"2536\"},\"selection_glyph\":null,\"view\":{\"id\":\"2538\"},\"y_range_name\":\"y_range2_name\"},\"id\":\"2537\",\"type\":\"GlyphRenderer\"},{\"attributes\":{},\"id\":\"2505\",\"type\":\"BasicTickFormatter\"},{\"attributes\":{},\"id\":\"2572\",\"type\":\"Selection\"},{\"attributes\":{\"bottom_units\":\"screen\",\"fill_alpha\":0.5,\"fill_color\":\"lightgrey\",\"left_units\":\"screen\",\"level\":\"overlay\",\"line_alpha\":1.0,\"line_color\":\"black\",\"line_dash\":[4,4],\"line_width\":2,\"right_units\":\"screen\",\"top_units\":\"screen\"},\"id\":\"2491\",\"type\":\"BoxAnnotation\"},{\"attributes\":{\"data\":{\"x\":{\"__ndarray__\":\"AAAAAADgZEAAAAAAADh/QAAAAAAAAIpAAAAAAAAykkAAAAAAAGSXQAAAAAAAmJxAAAAAAADjoEAAAAAAAHujQAAAAAAAEqZAAAAAAACuqEA=\",\"dtype\":\"float64\",\"order\":\"little\",\"shape\":[10]},\"y\":{\"__ndarray__\":\"6v55uWBMlkDZYUN4ZmuYQBJN2M+o9plAO0nn7mWlm0DaGl+zf4KdQOEJGytVw59AY79FH4haoUCRndLIokOjQHhCBx38U6ZAG86offg6rkA=\",\"dtype\":\"float64\",\"order\":\"little\",\"shape\":[10]}},\"selected\":{\"id\":\"2551\"},\"selection_policy\":{\"id\":\"2550\"}},\"id\":\"2534\",\"type\":\"ColumnDataSource\"},{\"attributes\":{\"fill_alpha\":{\"value\":0.1},\"fill_color\":{\"value\":\"green\"},\"line_alpha\":{\"value\":0.1},\"line_color\":{\"value\":\"green\"},\"x\":{\"field\":\"x\"},\"y\":{\"field\":\"y\"}},\"id\":\"2555\",\"type\":\"Circle\"},{\"attributes\":{},\"id\":\"2486\",\"type\":\"ResetTool\"},{\"attributes\":{\"data_source\":{\"id\":\"2575\"},\"glyph\":{\"id\":\"2576\"},\"hover_glyph\":null,\"muted_glyph\":null,\"nonselection_glyph\":{\"id\":\"2577\"},\"selection_glyph\":null,\"view\":{\"id\":\"2579\"},\"y_range_name\":\"y_range2_name\"},\"id\":\"2578\",\"type\":\"GlyphRenderer\"},{\"attributes\":{\"line_alpha\":0.1,\"line_color\":\"purple\",\"x\":{\"field\":\"x\"},\"y\":{\"field\":\"y\"}},\"id\":\"2536\",\"type\":\"Line\"},{\"attributes\":{\"source\":{\"id\":\"2575\"}},\"id\":\"2579\",\"type\":\"CDSView\"},{\"attributes\":{},\"id\":\"2470\",\"type\":\"DataRange1d\"},{\"attributes\":{\"label\":{\"value\":\"ClaimNb\"},\"renderers\":[{\"id\":\"2501\"}]},\"id\":\"2512\",\"type\":\"LegendItem\"},{\"attributes\":{\"label\":{\"value\":\"pred_av\"},\"renderers\":[{\"id\":\"2519\"},{\"id\":\"2537\"}]},\"id\":\"2533\",\"type\":\"LegendItem\"},{\"attributes\":{\"data\":{\"x\":{\"__ndarray__\":\"AAAAAADgZEAAAAAAADh/QAAAAAAAAIpAAAAAAAAykkAAAAAAAGSXQAAAAAAAmJxAAAAAAADjoEAAAAAAAHujQAAAAAAAEqZAAAAAAACuqEA=\",\"dtype\":\"float64\",\"order\":\"little\",\"shape\":[10]},\"y\":{\"__ndarray__\":\"8hQrm0JjokCklfnbqyuVQKuxFgZyX59Amjq/9pBMnECLw1UfgZ6aQLH6MImY16FAKLtpZT6+l0DuBAgtySGnQBh4ZYGXnqRAIPwn5qwnukA=\",\"dtype\":\"float64\",\"order\":\"little\",\"shape\":[10]}},\"selected\":{\"id\":\"2596\"},\"selection_policy\":{\"id\":\"2595\"}},\"id\":\"2575\",\"type\":\"ColumnDataSource\"},{\"attributes\":{\"text\":\"Predicted vs Actual chart\"},\"id\":\"2468\",\"type\":\"Title\"},{\"attributes\":{\"end\":7439.639318783075,\"start\":1354.9178313253005},\"id\":\"2514\",\"type\":\"Range1d\"},{\"attributes\":{},\"id\":\"2530\",\"type\":\"UnionRenderers\"},{\"attributes\":{\"axis_label\":\"Average response\",\"formatter\":{\"id\":\"2525\"},\"ticker\":{\"id\":\"2524\"},\"y_range_name\":\"y_range2_name\"},\"id\":\"2515\",\"type\":\"LinearAxis\"},{\"attributes\":{},\"id\":\"2476\",\"type\":\"LinearScale\"},{\"attributes\":{\"fill_color\":{\"value\":\"purple\"},\"line_color\":{\"value\":\"purple\"},\"x\":{\"field\":\"x\"},\"y\":{\"field\":\"y\"}},\"id\":\"2517\",\"type\":\"Circle\"},{\"attributes\":{\"line_alpha\":0.1,\"line_color\":\"green\",\"x\":{\"field\":\"x\"},\"y\":{\"field\":\"y\"}},\"id\":\"2577\",\"type\":\"Line\"},{\"attributes\":{},\"id\":\"2479\",\"type\":\"BasicTicker\"},{\"attributes\":{\"data\":{\"x\":{\"__ndarray__\":\"AAAAAADgZEAAAAAAADh/QAAAAAAAAIpAAAAAAAAykkAAAAAAAGSXQAAAAAAAmJxAAAAAAADjoEAAAAAAAHujQAAAAAAAEqZAAAAAAACuqEA=\",\"dtype\":\"float64\",\"order\":\"little\",\"shape\":[10]},\"y\":{\"__ndarray__\":\"6v55uWBMlkDZYUN4ZmuYQBJN2M+o9plAO0nn7mWlm0DaGl+zf4KdQOEJGytVw59AY79FH4haoUCRndLIokOjQHhCBx38U6ZAG86offg6rkA=\",\"dtype\":\"float64\",\"order\":\"little\",\"shape\":[10]}},\"selected\":{\"id\":\"2531\"},\"selection_policy\":{\"id\":\"2530\"}},\"id\":\"2516\",\"type\":\"ColumnDataSource\"},{\"attributes\":{},\"id\":\"2550\",\"type\":\"UnionRenderers\"},{\"attributes\":{},\"id\":\"2490\",\"type\":\"SaveTool\"},{\"attributes\":{},\"id\":\"2507\",\"type\":\"BasicTickFormatter\"},{\"attributes\":{\"data_source\":{\"id\":\"2516\"},\"glyph\":{\"id\":\"2517\"},\"hover_glyph\":null,\"muted_glyph\":null,\"nonselection_glyph\":{\"id\":\"2518\"},\"selection_glyph\":null,\"view\":{\"id\":\"2520\"},\"y_range_name\":\"y_range2_name\"},\"id\":\"2519\",\"type\":\"GlyphRenderer\"},{\"attributes\":{},\"id\":\"2551\",\"type\":\"Selection\"},{\"attributes\":{},\"id\":\"2489\",\"type\":\"WheelZoomTool\"},{\"attributes\":{\"fill_alpha\":{\"value\":0.1},\"fill_color\":{\"value\":\"purple\"},\"line_alpha\":{\"value\":0.1},\"line_color\":{\"value\":\"purple\"},\"x\":{\"field\":\"x\"},\"y\":{\"field\":\"y\"}},\"id\":\"2518\",\"type\":\"Circle\"},{\"attributes\":{\"overlay\":{\"id\":\"2491\"}},\"id\":\"2487\",\"type\":\"BoxZoomTool\"},{\"attributes\":{},\"id\":\"2531\",\"type\":\"Selection\"},{\"attributes\":{\"source\":{\"id\":\"2516\"}},\"id\":\"2520\",\"type\":\"CDSView\"},{\"attributes\":{\"axis_label\":\"ClaimNb\",\"formatter\":{\"id\":\"2505\"},\"ticker\":{\"id\":\"2483\"}},\"id\":\"2482\",\"type\":\"LinearAxis\"}],\"root_ids\":[\"2467\"]},\"title\":\"Bokeh Application\",\"version\":\"2.1.1\"}};\n",
       "  var render_items = [{\"docid\":\"5f0fbe36-4ea0-4874-9deb-c989049bfe7c\",\"root_ids\":[\"2467\"],\"roots\":{\"2467\":\"a3abfc15-76ea-4956-90c9-c611dc180a8f\"}}];\n",
       "  root.Bokeh.embed.embed_items_notebook(docs_json, render_items);\n",
       "\n",
       "  }\n",
       "  if (root.Bokeh !== undefined) {\n",
       "    embed_document(root);\n",
       "  } else {\n",
       "    var attempts = 0;\n",
       "    var timer = setInterval(function(root) {\n",
       "      if (root.Bokeh !== undefined) {\n",
       "        clearInterval(timer);\n",
       "        embed_document(root);\n",
       "      } else {\n",
       "        attempts++;\n",
       "        if (attempts > 100) {\n",
       "          clearInterval(timer);\n",
       "          console.log(\"Bokeh: ERROR: Unable to run BokehJS code because BokehJS library is missing\");\n",
       "        }\n",
       "      }\n",
       "    }, 10, root)\n",
       "  }\n",
       "})(window);"
      ],
      "application/vnd.bokehjs_exec.v0+json": ""
     },
     "metadata": {
      "application/vnd.bokehjs_exec.v0+json": {
       "id": "2467"
      }
     },
     "output_type": "display_data"
    },
    {
     "name": "stdout",
     "output_type": "stream",
     "text": [
      "Lift on actuals:\t2.845\n",
      "Lift on predicted:\t2.711\n",
      "(86208, 16)\n",
      "(86208, 31)\n"
     ]
    },
    {
     "data": {
      "text/plain": [
       "<matplotlib.legend.Legend at 0x2545266f3d0>"
      ]
     },
     "execution_count": 40,
     "metadata": {},
     "output_type": "execute_result"
    },
    {
     "data": {
      "image/png": "[encoded data removed]",
      "text/plain": [
       "<Figure size 1080x648 with 1 Axes>"
      ]
     },
     "metadata": {
      "needs_background": "light"
     },
     "output_type": "display_data"
    }
   ],
   "source": [
    "# Sample data for visualisations\n",
    "df_extra_for_plt = score_data(df_test_mod, mods_df.GLMResults[3])\n",
    "lift_plt_data_df = get_agg_plot_data(df_extra_for_plt, set_config = \"lift\")\n",
    "lift_plt = create_plot(lift_plt_data_df)\n",
    "show(lift_plt)\n",
    "\n",
    "lift_actuals = lift_plt_data_df.act_av.iloc[-1] / lift_plt_data_df.act_av.iloc[0]\n",
    "lift_pred = lift_plt_data_df.pred_av.iloc[-1] / lift_plt_data_df.pred_av.iloc[0]\n",
    "print(f'Lift on actuals:\\t{lift_actuals:.3f}')\n",
    "print(f'Lift on predicted:\\t{lift_pred:.3f}')\n",
    "\n",
    "# test validation over time\n",
    "# read test\n",
    "df_test=pd.read_csv('./test_data.csv')\n",
    "print(df_test.shape)\n",
    "# data prep\n",
    "df_test = get_df_extra(df_test)\n",
    "df_test = get_df_extra1(df_test)\n",
    "print(df_test.shape)\n",
    "# score\n",
    "a=score_data(df_test, mods_df.GLMResults[3])\n",
    "# summary\n",
    "a=agg_act_pred(a,'YM','S')\n",
    "plt.figure(figsize=(15,9))\n",
    "# plt.ylim(.08,.12)\n",
    "plt.grid()\n",
    "plt.plot(a.YM,a.Act_sev,color='r',label='Actual SEV')\n",
    "plt.plot(a.YM,a.pred_sev,color='b',label='Predicted SEV')\n",
    "plt.legend()"
   ]
  },
  {
   "cell_type": "markdown",
   "metadata": {
    "code_folding": []
   },
   "source": [
    "<div align=\"right\" style=\"text-align: right\"><a href=\"#Contents\">Back to Contents</a></div>\n",
    "\n",
    "# Output results"
   ]
  },
  {
   "cell_type": "markdown",
   "metadata": {
    "code_folding": []
   },
   "source": [
    "## Save results"
   ]
  },
  {
   "cell_type": "code",
   "execution_count": 30,
   "metadata": {
    "code_folding": []
   },
   "outputs": [],
   "source": [
    "# Output model\n",
    "mods_df.GLMResults[3].save(\"GLM_Claim_sev_Model.pkl\")"
   ]
  },
  {
   "cell_type": "markdown",
   "metadata": {},
   "source": [
    "## predictions on train,test,holdout"
   ]
  },
  {
   "cell_type": "code",
   "execution_count": 31,
   "metadata": {},
   "outputs": [
    {
     "name": "stdout",
     "output_type": "stream",
     "text": [
      "(101421, 16)\n",
      "(488507, 16)\n",
      "(86208, 16)\n"
     ]
    }
   ],
   "source": [
    "df_holdout=pd.read_csv('./holdout_data.csv')\n",
    "print(df_holdout.shape)\n",
    "df_train=pd.read_csv('./train_data.csv')\n",
    "print(df_train.shape)\n",
    "df_test=pd.read_csv('./test_data.csv')\n",
    "print(df_test.shape)\n",
    "\n",
    "# data prep\n",
    "df_holdout = get_df_extra(df_holdout)\n",
    "df_train = get_df_extra(df_train)\n",
    "df_test = get_df_extra(df_test)\n",
    "\n",
    "df_holdout = get_df_extra1(df_holdout)\n",
    "df_train = get_df_extra1(df_train)\n",
    "df_test = get_df_extra1(df_test)\n",
    "\n",
    "a=score_data(df_train, mods_df.GLMResults[3])\n",
    "b=score_data(df_test, mods_df.GLMResults[3])\n",
    "c=score_data(df_holdout, mods_df.GLMResults[3])\n",
    "a=pd.concat([a,b,c])\n",
    "a=a[['IDpol','pred_sev','pred_pay']]\n",
    "\n",
    "\n",
    "a.to_csv('GLM_predictions_sev.csv',index=False)"
   ]
  },
  {
   "cell_type": "markdown",
   "metadata": {},
   "source": [
    "## getting the summary for each feature for test"
   ]
  },
  {
   "cell_type": "code",
   "execution_count": 42,
   "metadata": {},
   "outputs": [
    {
     "name": "stdout",
     "output_type": "stream",
     "text": [
      "DrivAge_pow2\n",
      "DrivAge_capped\n",
      "Month\n",
      "INT_Region_VehAge\n",
      "INT_BonusMalus_mod3_Vehpower\n"
     ]
    }
   ],
   "source": [
    "a=score_data(df_test, mods_df.GLMResults[3])\n",
    "data=pd.DataFrame()\n",
    "for i in ['DrivAge_pow2','DrivAge_capped','Month','INT_Region_VehAge','INT_BonusMalus_mod3_Vehpower']: \n",
    "    print(i)\n",
    "    x=agg_act_pred(a,i,'S')\n",
    "    x['feature']=i\n",
    "    x.rename(columns={i:'Values'},inplace=True)\n",
    "    data=data.append(x)\n",
    "\n",
    "data.to_csv('test_aggregated_var_df_sev.csv')"
   ]
  },
  {
   "cell_type": "markdown",
   "metadata": {},
   "source": [
    "## getting the summary for each feature for holdout"
   ]
  },
  {
   "cell_type": "code",
   "execution_count": 43,
   "metadata": {},
   "outputs": [],
   "source": [
    "a=score_data(df_holdout, mods_df.GLMResults[3])\n",
    "data=pd.DataFrame()\n",
    "for i in ['DrivAge_pow2','DrivAge_capped','Month','INT_Region_VehAge','INT_BonusMalus_mod3_Vehpower']:    \n",
    "    x=agg_act_pred(a,i,'S')\n",
    "    x['feature']=i\n",
    "    x.rename(columns={i:'Values'},inplace=True)\n",
    "#     print(x)\n",
    "    data=data.append(x)\n",
    "\n",
    "data.to_csv('holdout_aggregated_var_df_sev.csv')"
   ]
  },
  {
   "cell_type": "markdown",
   "metadata": {},
   "source": [
    "# Graphs"
   ]
  },
  {
   "cell_type": "code",
   "execution_count": null,
   "metadata": {},
   "outputs": [],
   "source": [
    "# import seaborn as sns\n",
    "# import pylab \n",
    "# import scipy.stats as stats\n",
    "\n",
    "# # residual plot\n",
    "# a=score_data(df_holdout, mods_df.GLMResults[3])\n",
    "# a=a.loc[~(a.ClaimNb==0),:]\n",
    "# g=sns.residplot(x=a.pred_sev, y=a.act_sev-a.pred_sev, lowess=True, color=\"g\")\n",
    "# # g.set_ylim(-15, 15)\n",
    "# a=score_data(df_test, mods_df.GLMResults[3])\n",
    "# sns.residplot(x=a.pred_sev, y=a.act_sev-a.pred_sev, lowess=True, color=\"b\")"
   ]
  },
  {
   "cell_type": "code",
   "execution_count": null,
   "metadata": {},
   "outputs": [],
   "source": [
    "# # probability Plot test\n",
    "# a=score_data(df_test, mods_df.GLMResults[3])\n",
    "# stats.probplot(a.pred_sev, dist=\"norm\", plot=pylab)\n",
    "# pylab.show()"
   ]
  },
  {
   "cell_type": "code",
   "execution_count": null,
   "metadata": {},
   "outputs": [],
   "source": [
    "# # probability Plot test\n",
    "# a=score_data(df_holdout, mods_df.GLMResults[3])\n",
    "# stats.probplot(a.pred_sev, dist=\"norm\", plot=pylab)\n",
    "# pylab.show()"
   ]
  },
  {
   "cell_type": "markdown",
   "metadata": {},
   "source": [
    "# RMSE"
   ]
  },
  {
   "cell_type": "code",
   "execution_count": null,
   "metadata": {},
   "outputs": [],
   "source": [
    "# from sklearn.metrics import mean_squared_error"
   ]
  },
  {
   "cell_type": "code",
   "execution_count": null,
   "metadata": {},
   "outputs": [],
   "source": [
    "# def RMSE_agg(df,model):\n",
    "#     a=score_data(df, model)\n",
    "#     a['YM']=pd.to_datetime(a.Date).dt.to_period('M')\n",
    "#     a.fillna(0,inplace=True)\n",
    "#     itr_list=list(a.YM.unique())\n",
    "#     b=pd.DataFrame()\n",
    "#     for i in itr_list:\n",
    "#         x=a.loc[a['YM']==i,:]    \n",
    "#         x['RMSE']=np.sqrt(mean_squared_error(x.act_sev, x.pred_sev))\n",
    "#         x=pd.DataFrame(x.groupby(by=['YM']).agg({'RMSE':'max'})).reset_index()\n",
    "#         b=b.append(x)\n",
    "#     return b\n",
    "\n",
    "# a=RMSE_agg(df_test, mods_df.GLMResults[3])\n",
    "# b=RMSE_agg(df_train, mods_df.GLMResults[3])\n",
    "# a=a.merge(b,on='YM')\n",
    "# a.columns=['YM','RMSE_test','RMSE_train']\n",
    "# a.to_csv('RMSE_over_month_test_train_sev.csv',index=False)\n",
    "\n",
    "# a=RMSE_agg(df_holdout, mods_df.GLMResults[3])\n",
    "# a.columns=['YM','RMSE_holdout']\n",
    "# a.to_csv('RMSE_over_month_holdout_sev.csv',index=False)"
   ]
  },
  {
   "cell_type": "code",
   "execution_count": null,
   "metadata": {},
   "outputs": [],
   "source": []
  }
 ],
 "metadata": {
  "kernelspec": {
   "display_name": "Python 3",
   "language": "python",
   "name": "python3"
  },
  "language_info": {
   "codemirror_mode": {
    "name": "ipython",
    "version": 3
   },
   "file_extension": ".py",
   "mimetype": "text/x-python",
   "name": "python",
   "nbconvert_exporter": "python",
   "pygments_lexer": "ipython3",
   "version": "3.8.3"
  },
  "toc": {
   "base_numbering": 1,
   "nav_menu": {},
   "number_sections": true,
   "sideBar": true,
   "skip_h1_title": false,
   "title_cell": "Table of Contents",
   "title_sidebar": "Contents",
   "toc_cell": false,
   "toc_position": {
    "height": "calc(100% - 180px)",
    "left": "10px",
    "top": "150px",
    "width": "307.2px"
   },
   "toc_section_display": true,
   "toc_window_display": true
  }
 },
 "nbformat": 4,
 "nbformat_minor": 4
}
