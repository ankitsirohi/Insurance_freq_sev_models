{
 "cells": [
  {
   "cell_type": "markdown",
   "metadata": {},
   "source": [
    "# Modelling motor insurance claim frequency\n"
   ]
  },
  {
   "cell_type": "markdown",
   "metadata": {},
   "source": [
    "<div align=\"right\" style=\"text-align: right\"><a href=\"#Contents\">Back to Contents</a></div>\n",
    "\n",
    "# Setup"
   ]
  },
  {
   "cell_type": "code",
   "execution_count": null,
   "metadata": {
    "code_folding": []
   },
   "outputs": [],
   "source": [
    "import warnings\n",
    "warnings.filterwarnings(\"ignore\")"
   ]
  },
  {
   "cell_type": "code",
   "execution_count": null,
   "metadata": {
    "code_folding": [
     0
    ]
   },
   "outputs": [],
   "source": [
    "# Import built-in modules\n",
    "import sys\n",
    "import platform\n",
    "import os\n",
    "from pathlib import Path\n",
    "import string\n",
    "\n",
    "# Import external modules\n",
    "from IPython import __version__ as IPy_version\n",
    "import IPython.display as ipyd\n",
    "import numpy as np\n",
    "import pandas as pd\n",
    "from sklearn import __version__ as skl_version\n",
    "from sklearn.model_selection import train_test_split\n",
    "import matplotlib as mpl\n",
    "import matplotlib.pyplot as plt\n",
    "from bokeh import __version__ as bk_version\n",
    "from scipy import __version__ as scipy_version\n",
    "from statsmodels import __version__ as sm_version\n",
    "import statsmodels.api as sm\n",
    "import statsmodels.formula.api as smf\n",
    "from patsy import __version__ as patsy_version"
   ]
  },
  {
   "cell_type": "code",
   "execution_count": null,
   "metadata": {
    "code_folding": [
     0
    ]
   },
   "outputs": [],
   "source": [
    "# Bokeh imports\n",
    "from bokeh.layouts import gridplot\n",
    "from bokeh.plotting import figure, output_file, show, output_notebook\n",
    "from bokeh.models.ranges import Range1d\n",
    "from bokeh.models.axes import LinearAxis\n",
    "\n",
    "# Load Bokeh for use in a notebook\n",
    "from bokeh.io import output_notebook\n",
    "output_notebook()"
   ]
  },
  {
   "cell_type": "code",
   "execution_count": null,
   "metadata": {
    "code_folding": [
     0
    ]
   },
   "outputs": [],
   "source": [
    "# Configuration variables\n",
    "claims_data_filepath = Path('./train_data.csv')\n",
    "claims_data_filepath2 = Path('./test_data.csv')"
   ]
  },
  {
   "cell_type": "markdown",
   "metadata": {},
   "source": [
    "## Useful functions"
   ]
  },
  {
   "cell_type": "code",
   "execution_count": null,
   "metadata": {
    "code_folding": [
     0
    ]
   },
   "outputs": [],
   "source": [
    "def score_data(data_df, GLMRes_obj):\n",
    "    raw_exog_names = pd.Series(GLMRes_obj.model.exog_names[1:]).str.split(\n",
    "        '[', expand=True, n=1).iloc[:,0].drop_duplicates().to_list()\n",
    "    scored_df = data_df.assign(\n",
    "        wgt=lambda x: x.Exposure,\n",
    "        act_freq=lambda x: x[GLMRes_obj.model.endog_names] / x.wgt,\n",
    "        pred_freq=lambda x: GLMRes_obj.predict(x[raw_exog_names]),\n",
    "        act_Nb=lambda x: x[GLMRes_obj.model.endog_names],\n",
    "        pred_Nb=lambda x: x.pred_freq * x.wgt,\n",
    "    )\n",
    "    return(scored_df)"
   ]
  },
  {
   "cell_type": "code",
   "execution_count": null,
   "metadata": {
    "code_folding": [
     0
    ]
   },
   "outputs": [],
   "source": [
    "def get_cut_grps(df, cut_by, n_bins):\n",
    "    if isinstance(n_bins, int):\n",
    "        return(pd.cut(df[cut_by], bins=n_bins))\n",
    "    if n_bins == 'cat':\n",
    "        return(df[cut_by])\n",
    "    if n_bins == 'all':\n",
    "        bins = np.sort(df[cut_by].unique())\n",
    "        offset = np.min(np.diff(bins)) / 2\n",
    "        bins = np.insert(bins, 0, 2*bins[0] - bins[1]) + offset\n",
    "        return(pd.cut(df[cut_by], bins=bins))"
   ]
  },
  {
   "cell_type": "code",
   "execution_count": null,
   "metadata": {
    "code_folding": [
     0
    ]
   },
   "outputs": [],
   "source": [
    "def get_agg_plot_data(data_df,order_by = None,cut_by = None,x_axis_var = None,n_bins = None,set_config = None):\n",
    "    # Set defaults\n",
    "    if set_config == \"lift\":\n",
    "        if order_by is None:\n",
    "            order_by = 'pred_freq'\n",
    "        if cut_by is None:\n",
    "            cut_by = 'cum_wgt'\n",
    "        if x_axis_var is None:\n",
    "            x_axis_var = cut_by\n",
    "        if n_bins is None:\n",
    "            n_bins = 10\n",
    "    if cut_by is None:\n",
    "        cut_by = order_by\n",
    "    if x_axis_var is None:\n",
    "        x_axis_var = cut_by\n",
    "\n",
    "    plt_data_df = data_df\\\n",
    "    .rename_axis(index='index').sort_values([order_by, 'index']).assign(\n",
    "        cum_wgt_raw=lambda x: x.wgt.cumsum(),\n",
    "        cum_wgt=lambda x: x.groupby(order_by).cum_wgt_raw.transform('max'),\n",
    "        grp=lambda df: get_cut_grps(df, cut_by, n_bins)\n",
    "    ).groupby('grp', sort=False).agg(\n",
    "        n_obs=('grp', 'size'), \n",
    "        wgt_sum=('wgt', 'sum'),\n",
    "        act_Nb=('act_Nb', 'sum'),\n",
    "        pred_Nb=('pred_Nb', 'sum'),\n",
    "        x_min=(x_axis_var, 'min'),\n",
    "        x_max=(x_axis_var, 'max'),\n",
    "    ).pipe(lambda x: (\n",
    "        x.reset_index(drop=True).pipe(lambda x: (\n",
    "            x.set_index(pd.interval_range(start=-0.5, periods=x.shape[0], freq=1.))\n",
    "        )) if n_bins == 'cat' \n",
    "        else x.set_index(x.index.categories)\n",
    "    )).assign(\n",
    "        act_av=lambda x: x.act_Nb / x.wgt_sum,\n",
    "        pred_av=lambda x: x.pred_Nb / x.wgt_sum,\n",
    "        x_left=lambda x: np.select(\n",
    "            [x.x_min == x.x_max],\n",
    "            [x.index.left], \n",
    "            default=x.x_min\n",
    "        ),\n",
    "        x_right=lambda x: np.select(\n",
    "            [x.x_min == x.x_max],\n",
    "            [x.index.right],\n",
    "            default=x.x_max\n",
    "        ),\n",
    "        x_mid=lambda x: (x.x_right + x.x_left) / 2,\n",
    "    )\n",
    "    return(plt_data_df)"
   ]
  },
  {
   "cell_type": "code",
   "execution_count": 8,
   "metadata": {
    "code_folding": [
     0
    ]
   },
   "outputs": [],
   "source": [
    "def create_plot(plt_data_df, n_bins = None):\n",
    "    bkplt = figure(\n",
    "        title=\"Predicted vs Actual chart\", x_axis_label='Pred val', y_axis_label=\"Exposure\", \n",
    "        tools=\"reset,box_zoom,pan,wheel_zoom,save\", background_fill_color=\"#fafafa\",\n",
    "        plot_width=800, plot_height=500\n",
    "    )\n",
    "    bkplt.quad(\n",
    "        top=plt_data_df.wgt_sum, bottom=0, left=plt_data_df.x_left, right=plt_data_df.x_right,\n",
    "        fill_color=\"khaki\", line_color=\"white\", legend_label=\"Exposure\"\n",
    "    )\n",
    "    bkplt.y_range=Range1d(0, plt_data_df.wgt_sum.max() / 0.5)\n",
    "\n",
    "    y_range2_name = 'y_range2_name'\n",
    "    bkplt.extra_y_ranges[y_range2_name] = Range1d(\n",
    "        plt_data_df[['act_av', 'pred_av']].min().min(), \n",
    "        plt_data_df[['act_av', 'pred_av']].max().max() / 0.9\n",
    "    )\n",
    "    ax_new = LinearAxis(y_range_name=y_range2_name, axis_label=\"Average response\")\n",
    "    bkplt.add_layout(ax_new, 'right')\n",
    "\n",
    "    for col_name, color in [('pred_av', 'purple'), ('act_av', 'green')]:\n",
    "        bkplt.circle(\n",
    "            plt_data_df.x_mid, plt_data_df[col_name], \n",
    "            color=color, size=4,\n",
    "            y_range_name=y_range2_name,\n",
    "            legend_label=col_name\n",
    "        )\n",
    "        bkplt.line(\n",
    "            plt_data_df.x_mid, plt_data_df[col_name], \n",
    "            color=color, # size=4,\n",
    "            y_range_name=y_range2_name,\n",
    "            legend_label=col_name\n",
    "        )\n",
    "\n",
    "    bkplt.grid.grid_line_color = \"white\"\n",
    "    bkplt.legend.location = \"top_left\"\n",
    "    bkplt.legend.click_policy=\"hide\"\n",
    "\n",
    "    if n_bins == \"cat\":\n",
    "        x_tick_labs = plt_data_df.x_min.astype(str).reset_index(drop=True).to_dict()\n",
    "        bkplt.xaxis.ticker = list(x_tick_labs.keys())\n",
    "        bkplt.xaxis.major_label_overrides = x_tick_labs\n",
    "    \n",
    "    return(bkplt)"
   ]
  },
  {
   "cell_type": "code",
   "execution_count": 9,
   "metadata": {
    "code_folding": [
     0
    ]
   },
   "outputs": [],
   "source": [
    "def get_cat_map_ordered(df, cat_col_name, order_by='act_av_freq'):\n",
    "    res = df.groupby(cat_col_name).agg(\n",
    "        n_obs=(cat_col_name, 'size'),\n",
    "        wgt_sum=('Exposure', 'sum'),\n",
    "        act_Nb=('ClaimNb', 'sum'),\n",
    "    ).assign(\n",
    "        act_av_freq=lambda x: x.act_Nb / x.wgt_sum\n",
    "    ).sort_values(\n",
    "        [order_by], ascending=False\n",
    "    ).assign(\n",
    "        all_levels=lambda x: x.reset_index().index\n",
    "    )\n",
    "    return(res)"
   ]
  },
  {
   "cell_type": "code",
   "execution_count": 10,
   "metadata": {
    "code_folding": []
   },
   "outputs": [],
   "source": [
    "def agg_act_pred(df,by_col,type):\n",
    "    if by_col=='Date':\n",
    "        df['YM']=pd.to_datetime(df.Date).dt.to_period('M')\n",
    "        by_col='YM'\n",
    "    if type=='S':\n",
    "        d=pd.DataFrame(df.groupby(by=[by_col]).agg({'payout':'sum','wgt':'sum','pred_sev':'mean'})).reset_index()\n",
    "        d['Act_sev']=d['payout']/d['wgt']\n",
    "        d.rename(columns={'payout':'pay_sum'},inplace=True)\n",
    "        e=pd.DataFrame(df.groupby(by=[by_col]).agg({'payout':'mean'})).reset_index()\n",
    "        e.rename(columns={'payout':'pay_mean'},inplace=True)\n",
    "        d=pd.merge(d,e,on=[by_col],how='left')\n",
    "        del e\n",
    "    if type=='F':\n",
    "        d=pd.DataFrame(df.groupby(by=[by_col]).agg({'ClaimNb':'sum','wgt':'sum','pred_freq':'mean','Actual_premium':'mean'})).reset_index()\n",
    "        d['Act_freq']=d['ClaimNb']/d['wgt']\n",
    "        \n",
    "    return d"
   ]
  },
  {
   "cell_type": "code",
   "execution_count": 12,
   "metadata": {
    "code_folding": []
   },
   "outputs": [],
   "source": [
    "def get_df_extra(df):\n",
    "    \"\"\"\n",
    "    Given a DataFrame of that contains the raw data columns (and possibly additional columns), \n",
    "    return the DataFrame with additional pre-processed columns\n",
    "    \"\"\"\n",
    "    df_extra = df.copy()\n",
    "    \n",
    "    # Calculate frequency per year on each row\n",
    "    df_extra['Frequency'] = df_extra['ClaimNb'] / df_extra['Exposure']\n",
    "    # Calculate severity per year on each row\n",
    "    df_extra['severity'] = df_extra['payout'] / df_extra['ClaimNb']\n",
    "    # adding the month field\n",
    "    df_extra['Month'] = pd.to_datetime(df_extra.Date,format='%Y-%m-%d').dt.month\n",
    "    \n",
    "    \n",
    "    # Feature engineering (the results of the analysis below)\n",
    "    VehBrand_map_sers = pd.Series({\n",
    "        'B12': 'X', 'B14': 'X', 'B13': 'X',\n",
    "        'B3': 'X', 'B11': 'X','B4': 'X', 'B5': 'X',\n",
    "        'B1': 'Y', 'B6': 'Y',\n",
    "        'B2': 'Z', 'B10': 'Z'\n",
    "    })\n",
    "\n",
    "    Region_map_sers = pd.Series({\n",
    "        **{reg: 'W' for reg in ['R21', 'R94', 'R11', 'R42', 'R22', 'R74']},\n",
    "        **{reg: 'X' for reg in ['R91', 'R82']},\n",
    "        **{reg: 'Y' for reg in ['R93', 'R53']},\n",
    "        **{reg: 'Z' for reg in ['R26', 'R25', 'R52', 'R31', 'R54', 'R73', \n",
    "                                'R23', 'R72', 'R83', 'R41', 'R43']},\n",
    "        **{reg: 'A' for reg in ['R24']},\n",
    "    })\n",
    "\n",
    "    df_extra = df_extra.assign(\n",
    "        DrivAge_capped=lambda x: np.clip(x.DrivAge, None, 80),\n",
    "        DrivAge_pow2=lambda x: np.power(x.DrivAge_capped, 2),\n",
    "        BonusMalus_over_50=lambda x: np.select([x.BonusMalus > 50], [\"Y\"], default=\"N\"),\n",
    "        BonusMalus_mod3=lambda x: np.floor((np.clip(x.BonusMalus, None, 90) - 48)/3)*3 + 50,\n",
    "        VehAge_new=lambda x: np.select([x.VehAge == 0], [\"Y\"], default=\"N\"),\n",
    "        VehAge_capped=lambda x: np.clip(x.VehAge, None, 18),\n",
    "        VehBrand_grd=lambda x: VehBrand_map_sers.loc[x.VehBrand].values,\n",
    "        Density_log=lambda x: np.log10(np.clip(x.Density, 10, np.power(10, 4))),\n",
    "        Region_grd=lambda x: Region_map_sers.loc[x.Region].values,\n",
    "    )\n",
    "    \n",
    "    return(df_extra)  "
   ]
  },
  {
   "cell_type": "markdown",
   "metadata": {},
   "source": [
    "<div align=\"right\" style=\"text-align: right\"><a href=\"#Contents\">Back to Contents</a></div>\n",
    "\n",
    "# Modelling data"
   ]
  },
  {
   "cell_type": "markdown",
   "metadata": {},
   "source": [
    "## Load data"
   ]
  },
  {
   "cell_type": "code",
   "execution_count": 13,
   "metadata": {
    "code_folding": []
   },
   "outputs": [
    {
     "name": "stdout",
     "output_type": "stream",
     "text": [
      "(488507, 16)\n",
      "(86208, 16)\n"
     ]
    }
   ],
   "source": [
    "# Load full data set\n",
    "df_raw = pd.read_csv(claims_data_filepath, delimiter=',')\n",
    "df_raw1 = pd.read_csv(claims_data_filepath2, delimiter=',')\n",
    "print(df_raw.shape)\n",
    "print(df_raw1.shape)"
   ]
  },
  {
   "cell_type": "code",
   "execution_count": 14,
   "metadata": {},
   "outputs": [
    {
     "data": {
      "text/plain": [
       "IDpol             0\n",
       "ClaimNb           0\n",
       "Exposure          0\n",
       "Area              0\n",
       "VehPower          0\n",
       "VehAge            0\n",
       "DrivAge           0\n",
       "BonusMalus        0\n",
       "VehBrand          0\n",
       "VehGas            0\n",
       "Density           0\n",
       "Region            0\n",
       "Date              0\n",
       "payout            0\n",
       "Actual_premium    0\n",
       "YM                0\n",
       "dtype: int64"
      ]
     },
     "execution_count": 14,
     "metadata": {},
     "output_type": "execute_result"
    }
   ],
   "source": [
    "df_raw.isna().sum()"
   ]
  },
  {
   "cell_type": "code",
   "execution_count": 15,
   "metadata": {},
   "outputs": [
    {
     "name": "stdout",
     "output_type": "stream",
     "text": [
      "Correct: Shape of DataFrame is as expected: 488507 rows, 16 cols\n"
     ]
    }
   ],
   "source": [
    "# Check it has loaded OK\n",
    "nRows, nCols = (488507, 16)\n",
    "assert df_raw.shape == (nRows, nCols)\n",
    "print(f\"Correct: Shape of DataFrame is as expected: {nRows} rows, {nCols} cols\")"
   ]
  },
  {
   "cell_type": "markdown",
   "metadata": {},
   "source": [
    "## Pre-processing"
   ]
  },
  {
   "cell_type": "code",
   "execution_count": 16,
   "metadata": {},
   "outputs": [],
   "source": [
    "# Run pre-processing to get a new DataFrame\n",
    "df_extra = get_df_extra(df_raw)\n",
    "# Run pre-processing to get a new DataFrame\n",
    "df_extra1 = get_df_extra(df_raw1)"
   ]
  },
  {
   "cell_type": "markdown",
   "metadata": {},
   "source": [
    "<div align=\"right\" style=\"text-align: right\"><a href=\"#Contents\">Back to Contents</a></div>\n",
    "\n",
    "# Modelling setup"
   ]
  },
  {
   "cell_type": "code",
   "execution_count": 17,
   "metadata": {},
   "outputs": [
    {
     "name": "stdout",
     "output_type": "stream",
     "text": [
      "Train sample size: (488507, 28)\n",
      "Test sample size: (86208, 28)\n"
     ]
    }
   ],
   "source": [
    "df_train_mod=df_extra.copy()\n",
    "del df_extra\n",
    "df_test_mod=df_extra1.copy()\n",
    "del df_extra1\n",
    "print(\"Train sample size: \" + str(df_train_mod.shape))\n",
    "\n",
    "print(\"Test sample size: \" + str(df_test_mod.shape))"
   ]
  },
  {
   "cell_type": "code",
   "execution_count": 18,
   "metadata": {
    "code_folding": []
   },
   "outputs": [
    {
     "name": "stdout",
     "output_type": "stream",
     "text": [
      "Explanatory variables\n",
      "Area\tVehPower\tVehGas\tDensity\tRegion\tMonth\tDrivAge_capped\tDrivAge_pow2\tBonusMalus_over_50\tBonusMalus_mod3\tVehAge_new\tVehAge_capped\tVehBrand_grd\tDensity_log\tRegion_grd\n",
      "\n",
      "Of which the following are simple features\n",
      "Area\tVehPower\tVehAge\tDrivAge\tBonusMalus\tVehBrand\tVehGas\tDensity\tRegion\tMonth\n"
     ]
    }
   ],
   "source": [
    "expl_var_names = [\n",
    "    col_name for col_name in df_train_mod.columns.to_list() \n",
    "     if col_name not in ['IDpol', 'ClaimNb', 'Exposure', 'Frequency','Date','payout','Actual_premium','severity',\n",
    "                         'VehAge','DrivAge','BonusMalus','VehBrand','YM']\n",
    "]\n",
    "print(\"Explanatory variables\\n\" + '\\t'.join(expl_var_names))\n",
    "simple_features = ['Area','VehPower','VehAge','DrivAge','BonusMalus','VehBrand','VehGas','Density','Region','Month']\n",
    "print(\"\\nOf which the following are simple features\\n\" + '\\t'.join(simple_features))"
   ]
  },
  {
   "cell_type": "code",
   "execution_count": 19,
   "metadata": {},
   "outputs": [],
   "source": [
    "# Initialise DataFrame for holding model info\n",
    "mods_df = pd.DataFrame(np.empty(0, dtype=np.dtype([\n",
    "    ('mod_name', np.dtype('O')),\n",
    "    ('descr', np.dtype('O')),\n",
    "    ('GLMResults', np.dtype('O')),\n",
    "])))\n",
    "\n",
    "# Dictionary of scores on the data\n",
    "scored_dfs = dict()"
   ]
  },
  {
   "cell_type": "markdown",
   "metadata": {},
   "source": [
    "# Fit and score -Simple features"
   ]
  },
  {
   "cell_type": "code",
   "execution_count": null,
   "metadata": {
    "code_folding": [
     0
    ]
   },
   "outputs": [],
   "source": [
    "# %%time\n",
    "# # Takes approx 20 secs\n",
    "# mods_df.loc[0, ['mod_name', 'descr']] = [ 'All_simple_features', 'All simple features']\n",
    "# mods_df.GLMResults[0] = smf.glm(\n",
    "#     \"ClaimNb ~ \" +  ' + '.join(simple_features),\n",
    "#     data=df_train_mod, exposure=np.asarray(df_train_mod['Exposure']),\n",
    "#     family=sm.families.Poisson(sm.genmod.families.links.log()),\n",
    "# ).fit()\n",
    "# print(mods_df.GLMResults[0].summary())\n",
    "\n",
    "# # save the model results\n",
    "# file = open('GLM_summary_freq_simple.txt', 'w')\n",
    "# file.write(str(mods_df.GLMResults[0].summary()))\n",
    "# file.close()"
   ]
  },
  {
   "cell_type": "code",
   "execution_count": null,
   "metadata": {
    "code_folding": [
     0
    ]
   },
   "outputs": [],
   "source": [
    "# %%time\n",
    "# # Score all the training data for analysis\n",
    "# scored_dfs[0] = score_data(df_train_mod, mods_df.GLMResults[0])\n",
    "\n",
    "# # Reasonableness checks\n",
    "# assert np.abs(scored_dfs[0].act_Nb.sum() - df_train_mod.ClaimNb.sum()) < 1e-7\n",
    "# assert np.abs(scored_dfs[0].wgt.sum() - df_train_mod.Exposure.sum()) < 1e-7\n",
    "# print(\"Correct: Reasonableness checks pass\\n\")\n",
    "# print(f\"Predicted number of claims:\\t{scored_dfs[0].pred_Nb.sum():,.1f}\")\n",
    "# print(f\"Actual number of claims:\\t{scored_dfs[0].ClaimNb.sum():,.1f}\")\n",
    "# print(f\"Difference:\\t\\t\\t{scored_dfs[0].pred_Nb.sum() - scored_dfs[0].ClaimNb.sum():,.1f}\")"
   ]
  },
  {
   "cell_type": "markdown",
   "metadata": {},
   "source": [
    "## Lift chart & test validation "
   ]
  },
  {
   "cell_type": "markdown",
   "metadata": {},
   "source": [
    "### Model0"
   ]
  },
  {
   "cell_type": "code",
   "execution_count": null,
   "metadata": {
    "code_folding": [
     0
    ]
   },
   "outputs": [],
   "source": [
    "# # Sample data for visualisations\n",
    "# df_extra_for_plt = score_data(df_test_mod, mods_df.GLMResults[0])\n",
    "# lift_plt_data_df = get_agg_plot_data(df_extra_for_plt, set_config = \"lift\")\n",
    "# lift_plt = create_plot(lift_plt_data_df)\n",
    "# show(lift_plt)\n",
    "\n",
    "# lift_actuals = lift_plt_data_df.act_av.iloc[-1] / lift_plt_data_df.act_av.iloc[0]\n",
    "# lift_pred = lift_plt_data_df.pred_av.iloc[-1] / lift_plt_data_df.pred_av.iloc[0]\n",
    "# print(f'Lift on actuals:\\t{lift_actuals:.3f}')\n",
    "# print(f'Lift on predicted:\\t{lift_pred:.3f}')\n",
    "\n",
    "# # test validation over time\n",
    "# # read test\n",
    "# df_test=pd.read_csv('./test_data.csv')\n",
    "# print(df_test.shape)\n",
    "# # data prep\n",
    "# df_test = get_df_extra(df_test)\n",
    "# print(df_test.shape)\n",
    "# # score\n",
    "# a=score_data(df_test, mods_df.GLMResults[0])\n",
    "# # summary\n",
    "# a=agg_act_pred(a,'YM','F')\n",
    "# plt.figure(figsize=(15,9))\n",
    "# plt.ylim(.08,.12)\n",
    "# plt.grid()\n",
    "# plt.plot(a.YM,a.Act_freq,color='r',label='Actual Frequency')\n",
    "# plt.plot(a.YM,a.pred_freq,color='b',label='Predicted Frequency')\n",
    "# plt.legend()"
   ]
  },
  {
   "cell_type": "markdown",
   "metadata": {},
   "source": [
    "# Feature selection\n",
    "Try selecting simple factors in stepwise regression using AIC. We want to minimise the AIC."
   ]
  },
  {
   "cell_type": "markdown",
   "metadata": {},
   "source": [
    "## simple features"
   ]
  },
  {
   "cell_type": "code",
   "execution_count": null,
   "metadata": {
    "code_folding": [
     0
    ]
   },
   "outputs": [],
   "source": [
    "# # The modelling is quite intensive on memory,\n",
    "# # so we need to limit the amount of data used\n",
    "# _, data_swreg_df = train_test_split(df_train_mod,\n",
    "#                                     test_size=0.5,\n",
    "#                                     random_state=98,\n",
    "#                                     shuffle=True)"
   ]
  },
  {
   "cell_type": "code",
   "execution_count": null,
   "metadata": {
    "code_folding": [
     0
    ]
   },
   "outputs": [],
   "source": [
    "# def fit_candidate(\n",
    "#         selected,\n",
    "#         candidate,\n",
    "#         n_step,\n",
    "#         n_iter,  # Adds these values to the model list\n",
    "#         mods_swreg_df,  # Add results to this model list\n",
    "#         data_swreg_df,  # Use this data set\n",
    "#         direction=None,\n",
    "#         verbose=True):\n",
    "#     \"\"\"Fit a model with an additional 'candidate' factor\"\"\"\n",
    "#     if direction is None:\n",
    "#         direction = 'fwd'\n",
    "\n",
    "#     if direction == 'fwd':\n",
    "#         if candidate is \"None\":\n",
    "#             factors_ls = selected\n",
    "#         else:\n",
    "#             factors_ls = selected + [candidate]\n",
    "#     else:\n",
    "#         factors_ls = selected.copy()\n",
    "#         if candidate is not \"None\":\n",
    "#             factors_ls.remove(candidate)\n",
    "\n",
    "#     mods_swreg_df.loc[n_iter, ['step', 'candidate', 'rhs_str']] = [\n",
    "#         n_step, candidate, ' + '.join(['1'] + factors_ls)\n",
    "#     ]\n",
    "\n",
    "#     GLMRes_tmp = smf.glm(\n",
    "#         \"ClaimNb ~ \" + mods_swreg_df.loc[n_iter, 'rhs_str'],\n",
    "#         data=data_swreg_df,\n",
    "#         exposure=np.asarray(data_swreg_df['Exposure']),\n",
    "#         family=sm.families.Poisson(sm.genmod.families.links.log()),\n",
    "#     ).fit()\n",
    "\n",
    "#     mods_swreg_df.loc[n_iter, 'aic'] = GLMRes_tmp.aic\n",
    "#     mods_swreg_df.loc[n_iter, 'df_model'] = GLMRes_tmp.df_model\n",
    "#     GLMRes_tmp.remove_data()  # Clear up to save RAM\n",
    "#     mods_swreg_df.loc[n_iter, 'GLMResults'] = GLMRes_tmp\n",
    "\n",
    "#     if verbose:\n",
    "#         print(f\"Iter: {n_iter:<2}\\t\"\n",
    "#               f\"Candidate: {candidate:<10}\\t\"\n",
    "#               f\"AIC: {mods_swreg_df.loc[n_iter, 'aic']:.1f}\")\n",
    "\n",
    "#     return (mods_swreg_df)"
   ]
  },
  {
   "cell_type": "code",
   "execution_count": null,
   "metadata": {
    "code_folding": [
     0
    ]
   },
   "outputs": [],
   "source": [
    "# # Initialise DataFrame for holding model info\n",
    "# mods_swreg_df = pd.DataFrame(\n",
    "#     np.empty(int(0),\n",
    "#              dtype=np.dtype([\n",
    "#                  ('step', np.dtype('int64')),\n",
    "#                  ('candidate', np.dtype('O')),\n",
    "#                  ('rhs_str', np.dtype('O')),\n",
    "#                  ('GLMResults', np.dtype('O')),\n",
    "#                  ('df_model', np.dtype('int64')),\n",
    "#                  ('aic', np.dtype('float64')),\n",
    "#              ])))\n",
    "\n",
    "# n_iter = 0\n",
    "# n_step = 0\n",
    "# remaining = simple_features.copy()\n",
    "# direction = 'fwd'\n",
    "# if direction == 'fwd':\n",
    "#     selected = []\n",
    "# else:\n",
    "#     selected = remaining.copy()\n",
    "# go_to_next_step = True"
   ]
  },
  {
   "cell_type": "code",
   "execution_count": null,
   "metadata": {
    "code_folding": [
     1
    ]
   },
   "outputs": [],
   "source": [
    "# run_this_chunk = True\n",
    "# if run_this_chunk:\n",
    "\n",
    "#     # The below loop does not cover the initial model\n",
    "#     # Takes approx 4 mins\n",
    "#     mods_swreg_df = fit_candidate(selected=selected,\n",
    "#                                   candidate=\"None\",\n",
    "#                                   n_step=n_step,\n",
    "#                                   n_iter=n_iter,\n",
    "#                                   mods_swreg_df=mods_swreg_df,\n",
    "#                                   data_swreg_df=data_swreg_df,\n",
    "#                                   direction=direction,\n",
    "#                                   verbose=True)\n",
    "\n",
    "#     while remaining and go_to_next_step:\n",
    "#         n_step += 1\n",
    "#         go_to_next_step = False\n",
    "#         print(f\"==== Step {n_step:02} ====\\n\"\n",
    "#               f\"Already selected: {', '.join(selected)}\\n\"\n",
    "#               f\"Remaining: {', '.join(remaining)}\")\n",
    "\n",
    "#         for candidate in remaining:\n",
    "#             n_iter += 1\n",
    "#             mods_swreg_df = fit_candidate(selected,\n",
    "#                                           candidate,\n",
    "#                                           n_step,\n",
    "#                                           n_iter,\n",
    "#                                           mods_swreg_df,\n",
    "#                                           data_swreg_df,\n",
    "#                                           direction=direction,\n",
    "#                                           verbose=True)\n",
    "\n",
    "#         mods_swreg_df = mods_swreg_df.sort_values(['step', 'aic', 'rhs_str'\n",
    "#                                                    ]).reset_index(drop=True)\n",
    "#         best_aic_so_far = mods_swreg_df.aic.min()\n",
    "#         best_in_step = mods_swreg_df.query(f\"step == {n_step}\")[[\n",
    "#             'candidate', 'aic'\n",
    "#         ]].iloc[0]\n",
    "\n",
    "#         if best_in_step.aic == best_aic_so_far:\n",
    "#             if direction == 'fwd':\n",
    "#                 selected.append(best_in_step.candidate)\n",
    "#             else:\n",
    "#                 selected.remove(best_in_step.candidate)\n",
    "#             remaining.remove(best_in_step.candidate)\n",
    "#             print(f\"Step {n_step:02} \"\n",
    "#                   f\"selected: {best_in_step.candidate:<10} \"\n",
    "#                   f\"(AIC: {best_in_step.aic:.1f})\")\n",
    "#             go_to_next_step = True\n",
    "#         else:\n",
    "#             print(f\"Step {n_step:02} \"\n",
    "#                   f\"selected: None\\n\"\n",
    "#                   f\"==== Stepwise regression complete ====\")"
   ]
  },
  {
   "cell_type": "code",
   "execution_count": null,
   "metadata": {
    "code_folding": [
     0
    ]
   },
   "outputs": [],
   "source": [
    "# # Save and view results\n",
    "# if run_this_chunk:\n",
    "#     mods_fw_swreg_df = mods_swreg_df.copy()\n",
    "#     best_mod = mods_fw_swreg_df.query(\n",
    "#         \"aic == @mods_fw_swreg_df.aic.min()\").iloc[0]\n",
    "#     print(\"Best model for forward regression:\")\n",
    "#     print(\"-\" * 40)\n",
    "#     print(\"Formula:\\t\" + best_mod.rhs_str + \"\\n\"\n",
    "#           f\"aic:\\t\\t{best_mod.aic:.2f}\\n\"\n",
    "#           f\"df_model:\\t{int(best_mod.df_model)}\")"
   ]
  },
  {
   "cell_type": "markdown",
   "metadata": {},
   "source": [
    "## extra features"
   ]
  },
  {
   "cell_type": "code",
   "execution_count": null,
   "metadata": {
    "code_folding": [
     0
    ]
   },
   "outputs": [],
   "source": [
    "# # The modelling is quite intensive on memory,\n",
    "# # so we need to limit the amount of data used\n",
    "# _, data_swreg_df = train_test_split(df_train_mod,\n",
    "#                                     test_size=0.5,\n",
    "#                                     random_state=98,\n",
    "#                                     shuffle=True)"
   ]
  },
  {
   "cell_type": "code",
   "execution_count": null,
   "metadata": {
    "code_folding": [
     0
    ]
   },
   "outputs": [],
   "source": [
    "# def fit_candidate(\n",
    "#         selected,\n",
    "#         candidate,\n",
    "#         n_step,\n",
    "#         n_iter,  # Adds these values to the model list\n",
    "#         mods_swreg_df,  # Add results to this model list\n",
    "#         data_swreg_df,  # Use this data set\n",
    "#         direction=None,\n",
    "#         verbose=True):\n",
    "#     \"\"\"Fit a model with an additional 'candidate' factor\"\"\"\n",
    "#     if direction is None:\n",
    "#         direction = 'fwd'\n",
    "\n",
    "#     if direction == 'fwd':\n",
    "#         if candidate is \"None\":\n",
    "#             factors_ls = selected\n",
    "#         else:\n",
    "#             factors_ls = selected + [candidate]\n",
    "#     else:\n",
    "#         factors_ls = selected.copy()\n",
    "#         if candidate is not \"None\":\n",
    "#             factors_ls.remove(candidate)\n",
    "\n",
    "#     mods_swreg_df.loc[n_iter, ['step', 'candidate', 'rhs_str']] = [\n",
    "#         n_step, candidate, ' + '.join(['1'] + factors_ls)\n",
    "#     ]\n",
    "\n",
    "#     GLMRes_tmp = smf.glm(\n",
    "#         \"ClaimNb ~ \" + mods_swreg_df.loc[n_iter, 'rhs_str'],\n",
    "#         data=data_swreg_df,\n",
    "#         exposure=np.asarray(data_swreg_df['Exposure']),\n",
    "#         family=sm.families.Poisson(sm.genmod.families.links.log()),\n",
    "#     ).fit()\n",
    "\n",
    "#     mods_swreg_df.loc[n_iter, 'aic'] = GLMRes_tmp.aic\n",
    "#     mods_swreg_df.loc[n_iter, 'df_model'] = GLMRes_tmp.df_model\n",
    "#     GLMRes_tmp.remove_data()  # Clear up to save RAM\n",
    "#     mods_swreg_df.loc[n_iter, 'GLMResults'] = GLMRes_tmp\n",
    "\n",
    "#     if verbose:\n",
    "#         print(f\"Iter: {n_iter:<2}\\t\"\n",
    "#               f\"Candidate: {candidate:<10}\\t\"\n",
    "#               f\"AIC: {mods_swreg_df.loc[n_iter, 'aic']:.1f}\")\n",
    "\n",
    "#     return (mods_swreg_df)"
   ]
  },
  {
   "cell_type": "code",
   "execution_count": null,
   "metadata": {
    "code_folding": [
     0
    ]
   },
   "outputs": [],
   "source": [
    "# # Initialise DataFrame for holding model info\n",
    "# mods_swreg_df = pd.DataFrame(\n",
    "#     np.empty(int(0),\n",
    "#              dtype=np.dtype([\n",
    "#                  ('step', np.dtype('int64')),\n",
    "#                  ('candidate', np.dtype('O')),\n",
    "#                  ('rhs_str', np.dtype('O')),\n",
    "#                  ('GLMResults', np.dtype('O')),\n",
    "#                  ('df_model', np.dtype('int64')),\n",
    "#                  ('aic', np.dtype('float64')),\n",
    "#              ])))\n",
    "\n",
    "# n_iter = 0\n",
    "# n_step = 0\n",
    "# remaining = expl_var_names.copy()\n",
    "# direction = 'fwd'\n",
    "# if direction == 'fwd':\n",
    "#     selected = []\n",
    "# else:\n",
    "#     selected = remaining.copy()\n",
    "# go_to_next_step = True"
   ]
  },
  {
   "cell_type": "code",
   "execution_count": null,
   "metadata": {
    "code_folding": [
     1
    ],
    "scrolled": true
   },
   "outputs": [],
   "source": [
    "# run_this_chunk = True\n",
    "# if run_this_chunk:\n",
    "\n",
    "#     # The below loop does not cover the initial model\n",
    "#     # Takes approx 4 mins\n",
    "#     mods_swreg_df = fit_candidate(selected=selected,\n",
    "#                                   candidate=\"None\",\n",
    "#                                   n_step=n_step,\n",
    "#                                   n_iter=n_iter,\n",
    "#                                   mods_swreg_df=mods_swreg_df,\n",
    "#                                   data_swreg_df=data_swreg_df,\n",
    "#                                   direction=direction,\n",
    "#                                   verbose=True)\n",
    "\n",
    "#     while remaining and go_to_next_step:\n",
    "#         n_step += 1\n",
    "#         go_to_next_step = False\n",
    "#         print(f\"==== Step {n_step:02} ====\\n\"\n",
    "#               f\"Already selected: {', '.join(selected)}\\n\"\n",
    "#               f\"Remaining: {', '.join(remaining)}\")\n",
    "\n",
    "#         for candidate in remaining:\n",
    "#             n_iter += 1\n",
    "#             mods_swreg_df = fit_candidate(selected,\n",
    "#                                           candidate,\n",
    "#                                           n_step,\n",
    "#                                           n_iter,\n",
    "#                                           mods_swreg_df,\n",
    "#                                           data_swreg_df,\n",
    "#                                           direction=direction,\n",
    "#                                           verbose=True)\n",
    "\n",
    "#         mods_swreg_df = mods_swreg_df.sort_values(['step', 'aic', 'rhs_str'\n",
    "#                                                    ]).reset_index(drop=True)\n",
    "#         best_aic_so_far = mods_swreg_df.aic.min()\n",
    "#         best_in_step = mods_swreg_df.query(f\"step == {n_step}\")[[\n",
    "#             'candidate', 'aic'\n",
    "#         ]].iloc[0]\n",
    "\n",
    "#         if best_in_step.aic == best_aic_so_far:\n",
    "#             if direction == 'fwd':\n",
    "#                 selected.append(best_in_step.candidate)\n",
    "#             else:\n",
    "#                 selected.remove(best_in_step.candidate)\n",
    "#             remaining.remove(best_in_step.candidate)\n",
    "#             print(f\"Step {n_step:02} \"\n",
    "#                   f\"selected: {best_in_step.candidate:<10} \"\n",
    "#                   f\"(AIC: {best_in_step.aic:.1f})\")\n",
    "#             go_to_next_step = True\n",
    "#         else:\n",
    "#             print(f\"Step {n_step:02} \"\n",
    "#                   f\"selected: None\\n\"\n",
    "#                   f\"==== Stepwise regression complete ====\")"
   ]
  },
  {
   "cell_type": "code",
   "execution_count": null,
   "metadata": {
    "code_folding": [
     0
    ]
   },
   "outputs": [],
   "source": [
    "# # Save and view results\n",
    "# if run_this_chunk:\n",
    "#     mods_fw_swreg_df = mods_swreg_df.copy()\n",
    "#     best_mod = mods_fw_swreg_df.query(\n",
    "#         \"aic == @mods_fw_swreg_df.aic.min()\").iloc[0]\n",
    "#     print(\"Best model for forward regression:\")\n",
    "#     print(\"-\" * 40)\n",
    "#     print(\"Formula:\\t\" + best_mod.rhs_str + \"\\n\"\n",
    "#           f\"aic:\\t\\t{best_mod.aic:.2f}\\n\"\n",
    "#           f\"df_model:\\t{int(best_mod.df_model)}\")"
   ]
  },
  {
   "cell_type": "markdown",
   "metadata": {},
   "source": [
    "# Fit and score -selected features"
   ]
  },
  {
   "cell_type": "code",
   "execution_count": null,
   "metadata": {},
   "outputs": [],
   "source": [
    "# print(expl_var_names)\n",
    "\n",
    "# # fit model\n",
    "# mods_df.loc[1, ['mod_name', 'descr']] = ['All_simple_features', 'All simple features']\n",
    "# mods_df.GLMResults[1] = smf.glm(\n",
    "#     \"ClaimNb ~ \" +  ' + '.join(expl_var_names),\n",
    "#     data=df_train_mod, exposure=np.asarray(df_train_mod['Exposure']),\n",
    "#     family=sm.families.Poisson(sm.genmod.families.links.log()),\n",
    "# ).fit()\n",
    "# print(mods_df.GLMResults[1].summary())\n",
    "\n",
    "# # save the model results\n",
    "# file = open('GLM_summary_freq_EF.txt', 'w')\n",
    "# file.write(str(mods_df.GLMResults[1].summary()))\n",
    "# file.close()"
   ]
  },
  {
   "cell_type": "code",
   "execution_count": null,
   "metadata": {},
   "outputs": [],
   "source": [
    "# SF1 = ['DrivAge_capped', 'DrivAge_pow2', 'BonusMalus_over_50', 'BonusMalus_mod3', 'VehAge_new', 'VehAge_capped', \n",
    "#        'VehBrand_grd', 'Density_log', 'Region_grd', 'Month', 'VehPower', 'VehGas']\n",
    "\n",
    "# # fit model\n",
    "# mods_df.loc[2, ['mod_name', 'descr']] = [ 'All_simple_features',  'All simple features']\n",
    "# mods_df.GLMResults[2] = smf.glm(\n",
    "#     \"ClaimNb ~ \" +  ' + '.join(SF1),\n",
    "#     data=df_train_mod, exposure=np.asarray(df_train_mod['Exposure']),\n",
    "#     family=sm.families.Poisson(sm.genmod.families.links.log()),\n",
    "# ).fit()\n",
    "# print(mods_df.GLMResults[2].summary())\n",
    "\n",
    "# # save the model results\n",
    "# file = open('GLM_summary_freq_SF1.txt', 'w')\n",
    "# file.write(str(mods_df.GLMResults[2].summary()))\n",
    "# file.close()"
   ]
  },
  {
   "cell_type": "code",
   "execution_count": 20,
   "metadata": {},
   "outputs": [
    {
     "name": "stdout",
     "output_type": "stream",
     "text": [
      "                 Generalized Linear Model Regression Results                  \n",
      "==============================================================================\n",
      "Dep. Variable:                ClaimNb   No. Observations:               488507\n",
      "Model:                            GLM   Df Residuals:                   488493\n",
      "Model Family:                 Poisson   Df Model:                           13\n",
      "Link Function:                    log   Scale:                          1.0000\n",
      "Method:                          IRLS   Log-Likelihood:            -1.0128e+05\n",
      "Date:                Tue, 02 Feb 2021   Deviance:                   1.5319e+05\n",
      "Time:                        21:14:40   Pearson chi2:                 1.15e+06\n",
      "No. Iterations:                     7                                         \n",
      "Covariance Type:            nonrobust                                         \n",
      "===========================================================================================\n",
      "                              coef    std err          z      P>|z|      [0.025      0.975]\n",
      "-------------------------------------------------------------------------------------------\n",
      "Intercept                  -4.8041      0.089    -53.949      0.000      -4.979      -4.630\n",
      "BonusMalus_over_50[T.Y]     0.1585      0.021      7.730      0.000       0.118       0.199\n",
      "VehAge_new[T.Y]             1.0731      0.021     52.104      0.000       1.033       1.113\n",
      "Region_grd[T.W]            -0.0602      0.023     -2.562      0.010      -0.106      -0.014\n",
      "Region_grd[T.X]            -0.0117      0.020     -0.577      0.564      -0.051       0.028\n",
      "Region_grd[T.Y]            -0.0513      0.020     -2.547      0.011      -0.091      -0.012\n",
      "Region_grd[T.Z]            -0.1453      0.018     -7.863      0.000      -0.181      -0.109\n",
      "VehGas[T.Regular]           0.0526      0.013      4.083      0.000       0.027       0.078\n",
      "DrivAge_capped              0.0294      0.003     10.412      0.000       0.024       0.035\n",
      "DrivAge_pow2               -0.0002   2.77e-05     -7.628      0.000      -0.000      -0.000\n",
      "BonusMalus_mod3             0.0230      0.001     34.091      0.000       0.022       0.024\n",
      "VehAge_capped              -0.0185      0.001    -13.264      0.000      -0.021      -0.016\n",
      "Density_log                 0.0849      0.009      9.478      0.000       0.067       0.102\n",
      "Month                       0.0049      0.002      2.712      0.007       0.001       0.009\n",
      "===========================================================================================\n"
     ]
    }
   ],
   "source": [
    "SF2 = ['DrivAge_capped', 'DrivAge_pow2', 'BonusMalus_over_50', 'BonusMalus_mod3', 'VehAge_new', 'VehAge_capped', \n",
    "        'Density_log', 'Region_grd', 'Month', 'VehGas']\n",
    "\n",
    "# fit model\n",
    "mods_df.loc[3, ['mod_name', 'descr']] = [ 'All_simple_features',     'All simple features']\n",
    "mods_df.GLMResults[3] = smf.glm(\n",
    "    \"ClaimNb ~ \" +  ' + '.join(SF2),\n",
    "    data=df_train_mod, exposure=np.asarray(df_train_mod['Exposure']),\n",
    "    family=sm.families.Poisson(sm.genmod.families.links.log()),\n",
    ").fit()\n",
    "print(mods_df.GLMResults[3].summary())\n",
    "\n",
    "# save the model results\n",
    "file = open('GLM_summary_freq_SF2.txt', 'w')\n",
    "file.write(str(mods_df.GLMResults[3].summary()))\n",
    "file.close()"
   ]
  },
  {
   "cell_type": "markdown",
   "metadata": {},
   "source": [
    "## Lift plot & test validation"
   ]
  },
  {
   "cell_type": "markdown",
   "metadata": {},
   "source": [
    "### Model1"
   ]
  },
  {
   "cell_type": "code",
   "execution_count": 22,
   "metadata": {
    "code_folding": [
     0
    ]
   },
   "outputs": [],
   "source": [
    "# # Sample data for visualisations\n",
    "# df_extra_for_plt = score_data(df_test_mod, mods_df.GLMResults[1])\n",
    "# lift_plt_data_df = get_agg_plot_data(df_extra_for_plt, set_config = \"lift\")\n",
    "# lift_plt = create_plot(lift_plt_data_df)\n",
    "# show(lift_plt)\n",
    "\n",
    "# lift_actuals = lift_plt_data_df.act_av.iloc[-1] / lift_plt_data_df.act_av.iloc[0]\n",
    "# lift_pred = lift_plt_data_df.pred_av.iloc[-1] / lift_plt_data_df.pred_av.iloc[0]\n",
    "# print(f'Lift on actuals:\\t{lift_actuals:.3f}')\n",
    "# print(f'Lift on predicted:\\t{lift_pred:.3f}')\n",
    "\n",
    "# # test validation over time\n",
    "# # read test\n",
    "# df_test=pd.read_csv('./test_data.csv')\n",
    "# print(df_test.shape)\n",
    "# # data prep\n",
    "# df_test = get_df_extra(df_test)\n",
    "# print(df_test.shape)\n",
    "# # score\n",
    "# a=score_data(df_test, mods_df.GLMResults[1])\n",
    "# # summary\n",
    "# a=agg_act_pred(a,'YM','F')\n",
    "# plt.figure(figsize=(15,9))\n",
    "# plt.ylim(.08,.12)\n",
    "# plt.grid()\n",
    "# plt.plot(a.YM,a.Act_freq,color='r',label='Actual Frequency')\n",
    "# plt.plot(a.YM,a.pred_freq,color='b',label='Predicted Frequency')\n",
    "# plt.legend()"
   ]
  },
  {
   "cell_type": "markdown",
   "metadata": {},
   "source": [
    "### Model2"
   ]
  },
  {
   "cell_type": "code",
   "execution_count": null,
   "metadata": {
    "code_folding": [
     0
    ]
   },
   "outputs": [],
   "source": [
    "# # Sample data for visualisations\n",
    "# df_extra_for_plt = score_data(df_test_mod, mods_df.GLMResults[2])\n",
    "# lift_plt_data_df = get_agg_plot_data(df_extra_for_plt, set_config = \"lift\")\n",
    "# lift_plt = create_plot(lift_plt_data_df)\n",
    "# show(lift_plt)\n",
    "\n",
    "# lift_actuals = lift_plt_data_df.act_av.iloc[-1] / lift_plt_data_df.act_av.iloc[0]\n",
    "# lift_pred = lift_plt_data_df.pred_av.iloc[-1] / lift_plt_data_df.pred_av.iloc[0]\n",
    "# print(f'Lift on actuals:\\t{lift_actuals:.3f}')\n",
    "# print(f'Lift on predicted:\\t{lift_pred:.3f}')\n",
    "\n",
    "# # test validation over time\n",
    "# # read test\n",
    "# df_test=pd.read_csv('./test_data.csv')\n",
    "# print(df_test.shape)\n",
    "# # data prep\n",
    "# df_test = get_df_extra(df_test)\n",
    "# print(df_test.shape)\n",
    "# # score\n",
    "# a=score_data(df_test, mods_df.GLMResults[2])\n",
    "# # summary\n",
    "# a=agg_act_pred(a,'YM','F')\n",
    "# plt.figure(figsize=(15,9))\n",
    "# plt.ylim(.08,.12)\n",
    "# plt.grid()\n",
    "# plt.plot(a.YM,a.Act_freq,color='r',label='Actual Frequency')\n",
    "# plt.plot(a.YM,a.pred_freq,color='b',label='Predicted Frequency')\n",
    "# plt.legend()"
   ]
  },
  {
   "cell_type": "markdown",
   "metadata": {},
   "source": [
    "### Model3"
   ]
  },
  {
   "cell_type": "code",
   "execution_count": 23,
   "metadata": {},
   "outputs": [
    {
     "data": {
      "text/html": [
       "\n",
       "\n",
       "\n",
       "\n",
       "\n",
       "\n",
       "  <div class=\"bk-root\" id=\"b0bf1e77-1e04-403b-9c67-60ff58ebf1b7\" data-root-id=\"1002\"></div>\n"
      ]
     },
     "metadata": {},
     "output_type": "display_data"
    },
    {
     "data": {
      "application/javascript": [
       "(function(root) {\n",
       "  function embed_document(root) {\n",
       "    \n",
       "  var docs_json = {\"027efac5-1bf9-4af3-8d51-b4232ca82f4f\":{\"roots\":{\"references\":[{\"attributes\":{\"background_fill_color\":\"#fafafa\",\"below\":[{\"id\":\"1013\"}],\"center\":[{\"id\":\"1016\"},{\"id\":\"1020\"},{\"id\":\"1046\"}],\"extra_y_ranges\":{\"y_range2_name\":{\"id\":\"1049\"}},\"left\":[{\"id\":\"1017\"}],\"plot_height\":500,\"plot_width\":800,\"renderers\":[{\"id\":\"1036\"},{\"id\":\"1054\"},{\"id\":\"1072\"},{\"id\":\"1091\"},{\"id\":\"1113\"}],\"right\":[{\"id\":\"1050\"}],\"title\":{\"id\":\"1003\"},\"toolbar\":{\"id\":\"1027\"},\"x_range\":{\"id\":\"1005\"},\"x_scale\":{\"id\":\"1009\"},\"y_range\":{\"id\":\"1048\"},\"y_scale\":{\"id\":\"1011\"}},\"id\":\"1002\",\"subtype\":\"Figure\",\"type\":\"Plot\"},{\"attributes\":{},\"id\":\"1021\",\"type\":\"ResetTool\"},{\"attributes\":{\"click_policy\":\"hide\",\"items\":[{\"id\":\"1047\"},{\"id\":\"1068\"},{\"id\":\"1109\"}],\"location\":\"top_left\"},\"id\":\"1046\",\"type\":\"Legend\"},{\"attributes\":{},\"id\":\"1131\",\"type\":\"Selection\"},{\"attributes\":{},\"id\":\"1132\",\"type\":\"UnionRenderers\"},{\"attributes\":{\"end\":9109.410327064148},\"id\":\"1048\",\"type\":\"Range1d\"},{\"attributes\":{\"data\":{\"x\":{\"__ndarray__\":\"gh3ia4jKoUDJ/ip4i6+6QDQ0LMvCPMZANHo3abIhz0A8abB3UgPUQMxCSy3LddhATglvM13o3EASBnZYaq3gQKgEQX+r5uJAJJwvdPQf5UA=\",\"dtype\":\"float64\",\"order\":\"little\",\"shape\":[10]},\"y\":{\"__ndarray__\":\"uM+vnuWnqz+4C5iP2DWrP/xjQDBYprE/TJ538/LDsT+JAMweQ4GzP4T1o05zK7M/Br01MOCbtz8gjOnXsUG/P18G+7tMAMM/XiHbDWW0zT8=\",\"dtype\":\"float64\",\"order\":\"little\",\"shape\":[10]}},\"selected\":{\"id\":\"1107\"},\"selection_policy\":{\"id\":\"1108\"}},\"id\":\"1088\",\"type\":\"ColumnDataSource\"},{\"attributes\":{\"fill_color\":{\"value\":\"green\"},\"line_color\":{\"value\":\"green\"},\"x\":{\"field\":\"x\"},\"y\":{\"field\":\"y\"}},\"id\":\"1089\",\"type\":\"Circle\"},{\"attributes\":{},\"id\":\"1066\",\"type\":\"Selection\"},{\"attributes\":{},\"id\":\"1018\",\"type\":\"BasicTicker\"},{\"attributes\":{\"source\":{\"id\":\"1088\"}},\"id\":\"1092\",\"type\":\"CDSView\"},{\"attributes\":{},\"id\":\"1009\",\"type\":\"LinearScale\"},{\"attributes\":{\"label\":{\"value\":\"act_av\"},\"renderers\":[{\"id\":\"1091\"},{\"id\":\"1113\"}]},\"id\":\"1109\",\"type\":\"LegendItem\"},{\"attributes\":{},\"id\":\"1067\",\"type\":\"UnionRenderers\"},{\"attributes\":{\"bottom\":{\"value\":0},\"fill_color\":{\"value\":\"khaki\"},\"left\":{\"field\":\"left\"},\"line_color\":{\"value\":\"white\"},\"right\":{\"field\":\"right\"},\"top\":{\"field\":\"top\"}},\"id\":\"1034\",\"type\":\"Quad\"},{\"attributes\":{\"axis_label\":\"Exposure\",\"formatter\":{\"id\":\"1041\"},\"ticker\":{\"id\":\"1018\"}},\"id\":\"1017\",\"type\":\"LinearAxis\"},{\"attributes\":{\"label\":{\"value\":\"Exposure\"},\"renderers\":[{\"id\":\"1036\"}]},\"id\":\"1047\",\"type\":\"LegendItem\"},{\"attributes\":{\"data_source\":{\"id\":\"1088\"},\"glyph\":{\"id\":\"1089\"},\"hover_glyph\":null,\"muted_glyph\":null,\"nonselection_glyph\":{\"id\":\"1090\"},\"selection_glyph\":null,\"view\":{\"id\":\"1092\"},\"y_range_name\":\"y_range2_name\"},\"id\":\"1091\",\"type\":\"GlyphRenderer\"},{\"attributes\":{\"data\":{\"x\":{\"__ndarray__\":\"gh3ia4jKoUDJ/ip4i6+6QDQ0LMvCPMZANHo3abIhz0A8abB3UgPUQMxCSy3LddhATglvM13o3EASBnZYaq3gQKgEQX+r5uJAJJwvdPQf5UA=\",\"dtype\":\"float64\",\"order\":\"little\",\"shape\":[10]},\"y\":{\"__ndarray__\":\"dmS5uR/kqz8nSddXUv6vPzjKV6PHQrE/rCK4EsVnsj/nbLi/aJuzP/w0Nhyy/LQ/vcicSqf4tj/632zS3zC7PyCWlT3x0ME/r9trlYfvzz8=\",\"dtype\":\"float64\",\"order\":\"little\",\"shape\":[10]}},\"selected\":{\"id\":\"1066\"},\"selection_policy\":{\"id\":\"1067\"}},\"id\":\"1051\",\"type\":\"ColumnDataSource\"},{\"attributes\":{},\"id\":\"1039\",\"type\":\"BasicTickFormatter\"},{\"attributes\":{},\"id\":\"1011\",\"type\":\"LinearScale\"},{\"attributes\":{\"axis_label\":\"Average response\",\"formatter\":{\"id\":\"1061\"},\"ticker\":{\"id\":\"1062\"},\"y_range_name\":\"y_range2_name\"},\"id\":\"1050\",\"type\":\"LinearAxis\"},{\"attributes\":{\"line_color\":\"green\",\"x\":{\"field\":\"x\"},\"y\":{\"field\":\"y\"}},\"id\":\"1111\",\"type\":\"Line\"},{\"attributes\":{\"fill_color\":{\"value\":\"purple\"},\"line_color\":{\"value\":\"purple\"},\"x\":{\"field\":\"x\"},\"y\":{\"field\":\"y\"}},\"id\":\"1052\",\"type\":\"Circle\"},{\"attributes\":{\"label\":{\"value\":\"pred_av\"},\"renderers\":[{\"id\":\"1054\"},{\"id\":\"1072\"}]},\"id\":\"1068\",\"type\":\"LegendItem\"},{\"attributes\":{},\"id\":\"1005\",\"type\":\"DataRange1d\"},{\"attributes\":{},\"id\":\"1108\",\"type\":\"UnionRenderers\"},{\"attributes\":{\"overlay\":{\"id\":\"1026\"}},\"id\":\"1022\",\"type\":\"BoxZoomTool\"},{\"attributes\":{},\"id\":\"1014\",\"type\":\"BasicTicker\"},{\"attributes\":{},\"id\":\"1023\",\"type\":\"PanTool\"},{\"attributes\":{\"source\":{\"id\":\"1051\"}},\"id\":\"1055\",\"type\":\"CDSView\"},{\"attributes\":{\"source\":{\"id\":\"1033\"}},\"id\":\"1037\",\"type\":\"CDSView\"},{\"attributes\":{\"fill_alpha\":{\"value\":0.1},\"fill_color\":{\"value\":\"purple\"},\"line_alpha\":{\"value\":0.1},\"line_color\":{\"value\":\"purple\"},\"x\":{\"field\":\"x\"},\"y\":{\"field\":\"y\"}},\"id\":\"1053\",\"type\":\"Circle\"},{\"attributes\":{},\"id\":\"1107\",\"type\":\"Selection\"},{\"attributes\":{\"data_source\":{\"id\":\"1033\"},\"glyph\":{\"id\":\"1034\"},\"hover_glyph\":null,\"muted_glyph\":null,\"nonselection_glyph\":{\"id\":\"1035\"},\"selection_glyph\":null,\"view\":{\"id\":\"1037\"}},\"id\":\"1036\",\"type\":\"GlyphRenderer\"},{\"attributes\":{\"source\":{\"id\":\"1069\"}},\"id\":\"1073\",\"type\":\"CDSView\"},{\"attributes\":{\"axis\":{\"id\":\"1013\"},\"grid_line_color\":\"white\",\"ticker\":null},\"id\":\"1016\",\"type\":\"Grid\"},{\"attributes\":{},\"id\":\"1024\",\"type\":\"WheelZoomTool\"},{\"attributes\":{\"line_color\":\"purple\",\"x\":{\"field\":\"x\"},\"y\":{\"field\":\"y\"}},\"id\":\"1070\",\"type\":\"Line\"},{\"attributes\":{\"data\":{\"x\":{\"__ndarray__\":\"gh3ia4jKoUDJ/ip4i6+6QDQ0LMvCPMZANHo3abIhz0A8abB3UgPUQMxCSy3LddhATglvM13o3EASBnZYaq3gQKgEQX+r5uJAJJwvdPQf5UA=\",\"dtype\":\"float64\",\"order\":\"little\",\"shape\":[10]},\"y\":{\"__ndarray__\":\"dmS5uR/kqz8nSddXUv6vPzjKV6PHQrE/rCK4EsVnsj/nbLi/aJuzP/w0Nhyy/LQ/vcicSqf4tj/632zS3zC7PyCWlT3x0ME/r9trlYfvzz8=\",\"dtype\":\"float64\",\"order\":\"little\",\"shape\":[10]}},\"selected\":{\"id\":\"1086\"},\"selection_policy\":{\"id\":\"1087\"}},\"id\":\"1069\",\"type\":\"ColumnDataSource\"},{\"attributes\":{\"end\":0.2772192933396544,\"start\":0.05314518692832543},\"id\":\"1049\",\"type\":\"Range1d\"},{\"attributes\":{},\"id\":\"1041\",\"type\":\"BasicTickFormatter\"},{\"attributes\":{\"bottom\":{\"value\":0},\"fill_alpha\":{\"value\":0.1},\"fill_color\":{\"value\":\"khaki\"},\"left\":{\"field\":\"left\"},\"line_alpha\":{\"value\":0.1},\"line_color\":{\"value\":\"white\"},\"right\":{\"field\":\"right\"},\"top\":{\"field\":\"top\"}},\"id\":\"1035\",\"type\":\"Quad\"},{\"attributes\":{\"axis\":{\"id\":\"1017\"},\"dimension\":1,\"grid_line_color\":\"white\",\"ticker\":null},\"id\":\"1020\",\"type\":\"Grid\"},{\"attributes\":{\"fill_alpha\":{\"value\":0.1},\"fill_color\":{\"value\":\"green\"},\"line_alpha\":{\"value\":0.1},\"line_color\":{\"value\":\"green\"},\"x\":{\"field\":\"x\"},\"y\":{\"field\":\"y\"}},\"id\":\"1090\",\"type\":\"Circle\"},{\"attributes\":{\"line_alpha\":0.1,\"line_color\":\"purple\",\"x\":{\"field\":\"x\"},\"y\":{\"field\":\"y\"}},\"id\":\"1071\",\"type\":\"Line\"},{\"attributes\":{\"active_drag\":\"auto\",\"active_inspect\":\"auto\",\"active_multi\":null,\"active_scroll\":\"auto\",\"active_tap\":\"auto\",\"tools\":[{\"id\":\"1021\"},{\"id\":\"1022\"},{\"id\":\"1023\"},{\"id\":\"1024\"},{\"id\":\"1025\"}]},\"id\":\"1027\",\"type\":\"Toolbar\"},{\"attributes\":{\"data_source\":{\"id\":\"1051\"},\"glyph\":{\"id\":\"1052\"},\"hover_glyph\":null,\"muted_glyph\":null,\"nonselection_glyph\":{\"id\":\"1053\"},\"selection_glyph\":null,\"view\":{\"id\":\"1055\"},\"y_range_name\":\"y_range2_name\"},\"id\":\"1054\",\"type\":\"GlyphRenderer\"},{\"attributes\":{\"data\":{\"left\":{\"__ndarray__\":\"SOF6FK5H0T+WyylNQ8uxQP4YltFpysFAV6F644CvykDa4Zh8HcrRQBkFdrqYPNZA+5TO5y6v2kCifQ9/qyHfQNk4tqkdyuFAV0vgAlkD5EA=\",\"dtype\":\"float64\",\"order\":\"little\",\"shape\":[10]},\"right\":{\"__ndarray__\":\"lsspTUPKsUD+GJbR6cnBQGtPwsQbr8pAiCl69/HJ0UCe8MdyhzzWQICAIKD9rtpAon0Pf4sh30BUTWTx/snhQHbQy1Q5A+RA8ex+5Y885kA=\",\"dtype\":\"float64\",\"order\":\"little\",\"shape\":[10]},\"top\":{\"__ndarray__\":\"lsspTUPKsUCKZgJWkMmxQH1sWOZjyrFAKAVkVJDJsUBlGDftVcqxQHA7YrXYybFAve+7ezfKsUC7b+SOycmxQKESPBvTybFAl+SYhbTKsUA=\",\"dtype\":\"float64\",\"order\":\"little\",\"shape\":[10]}},\"selected\":{\"id\":\"1044\"},\"selection_policy\":{\"id\":\"1045\"}},\"id\":\"1033\",\"type\":\"ColumnDataSource\"},{\"attributes\":{\"axis_label\":\"Pred val\",\"formatter\":{\"id\":\"1039\"},\"ticker\":{\"id\":\"1014\"}},\"id\":\"1013\",\"type\":\"LinearAxis\"},{\"attributes\":{\"data_source\":{\"id\":\"1069\"},\"glyph\":{\"id\":\"1070\"},\"hover_glyph\":null,\"muted_glyph\":null,\"nonselection_glyph\":{\"id\":\"1071\"},\"selection_glyph\":null,\"view\":{\"id\":\"1073\"},\"y_range_name\":\"y_range2_name\"},\"id\":\"1072\",\"type\":\"GlyphRenderer\"},{\"attributes\":{\"bottom_units\":\"screen\",\"fill_alpha\":0.5,\"fill_color\":\"lightgrey\",\"left_units\":\"screen\",\"level\":\"overlay\",\"line_alpha\":1.0,\"line_color\":\"black\",\"line_dash\":[4,4],\"line_width\":2,\"right_units\":\"screen\",\"top_units\":\"screen\"},\"id\":\"1026\",\"type\":\"BoxAnnotation\"},{\"attributes\":{\"data_source\":{\"id\":\"1110\"},\"glyph\":{\"id\":\"1111\"},\"hover_glyph\":null,\"muted_glyph\":null,\"nonselection_glyph\":{\"id\":\"1112\"},\"selection_glyph\":null,\"view\":{\"id\":\"1114\"},\"y_range_name\":\"y_range2_name\"},\"id\":\"1113\",\"type\":\"GlyphRenderer\"},{\"attributes\":{},\"id\":\"1025\",\"type\":\"SaveTool\"},{\"attributes\":{\"source\":{\"id\":\"1110\"}},\"id\":\"1114\",\"type\":\"CDSView\"},{\"attributes\":{},\"id\":\"1086\",\"type\":\"Selection\"},{\"attributes\":{},\"id\":\"1061\",\"type\":\"BasicTickFormatter\"},{\"attributes\":{},\"id\":\"1087\",\"type\":\"UnionRenderers\"},{\"attributes\":{\"data\":{\"x\":{\"__ndarray__\":\"gh3ia4jKoUDJ/ip4i6+6QDQ0LMvCPMZANHo3abIhz0A8abB3UgPUQMxCSy3LddhATglvM13o3EASBnZYaq3gQKgEQX+r5uJAJJwvdPQf5UA=\",\"dtype\":\"float64\",\"order\":\"little\",\"shape\":[10]},\"y\":{\"__ndarray__\":\"uM+vnuWnqz+4C5iP2DWrP/xjQDBYprE/TJ538/LDsT+JAMweQ4GzP4T1o05zK7M/Br01MOCbtz8gjOnXsUG/P18G+7tMAMM/XiHbDWW0zT8=\",\"dtype\":\"float64\",\"order\":\"little\",\"shape\":[10]}},\"selected\":{\"id\":\"1131\"},\"selection_policy\":{\"id\":\"1132\"}},\"id\":\"1110\",\"type\":\"ColumnDataSource\"},{\"attributes\":{},\"id\":\"1062\",\"type\":\"BasicTicker\"},{\"attributes\":{},\"id\":\"1045\",\"type\":\"UnionRenderers\"},{\"attributes\":{\"line_alpha\":0.1,\"line_color\":\"green\",\"x\":{\"field\":\"x\"},\"y\":{\"field\":\"y\"}},\"id\":\"1112\",\"type\":\"Line\"},{\"attributes\":{},\"id\":\"1044\",\"type\":\"Selection\"},{\"attributes\":{\"text\":\"Predicted vs Actual chart\"},\"id\":\"1003\",\"type\":\"Title\"}],\"root_ids\":[\"1002\"]},\"title\":\"Bokeh Application\",\"version\":\"2.1.1\"}};\n",
       "  var render_items = [{\"docid\":\"027efac5-1bf9-4af3-8d51-b4232ca82f4f\",\"root_ids\":[\"1002\"],\"roots\":{\"1002\":\"b0bf1e77-1e04-403b-9c67-60ff58ebf1b7\"}}];\n",
       "  root.Bokeh.embed.embed_items_notebook(docs_json, render_items);\n",
       "\n",
       "  }\n",
       "  if (root.Bokeh !== undefined) {\n",
       "    embed_document(root);\n",
       "  } else {\n",
       "    var attempts = 0;\n",
       "    var timer = setInterval(function(root) {\n",
       "      if (root.Bokeh !== undefined) {\n",
       "        clearInterval(timer);\n",
       "        embed_document(root);\n",
       "      } else {\n",
       "        attempts++;\n",
       "        if (attempts > 100) {\n",
       "          clearInterval(timer);\n",
       "          console.log(\"Bokeh: ERROR: Unable to run BokehJS code because BokehJS library is missing\");\n",
       "        }\n",
       "      }\n",
       "    }, 10, root)\n",
       "  }\n",
       "})(window);"
      ],
      "application/vnd.bokehjs_exec.v0+json": ""
     },
     "metadata": {
      "application/vnd.bokehjs_exec.v0+json": {
       "id": "1002"
      }
     },
     "output_type": "display_data"
    },
    {
     "name": "stdout",
     "output_type": "stream",
     "text": [
      "Lift on actuals:\t4.296\n",
      "Lift on predicted:\t4.580\n",
      "(86208, 16)\n",
      "(86208, 28)\n"
     ]
    },
    {
     "data": {
      "text/plain": [
       "<matplotlib.legend.Legend at 0x294807c2760>"
      ]
     },
     "execution_count": 23,
     "metadata": {},
     "output_type": "execute_result"
    },
    {
     "data": {
      "image/png": "[encoded data removed]",
      "text/plain": [
       "<Figure size 1080x648 with 1 Axes>"
      ]
     },
     "metadata": {
      "needs_background": "light"
     },
     "output_type": "display_data"
    }
   ],
   "source": [
    "# Sample data for visualisations\n",
    "df_extra_for_plt = score_data(df_test_mod, mods_df.GLMResults[3])\n",
    "lift_plt_data_df = get_agg_plot_data(df_extra_for_plt, set_config = \"lift\")\n",
    "lift_plt = create_plot(lift_plt_data_df)\n",
    "show(lift_plt)\n",
    "\n",
    "lift_actuals = lift_plt_data_df.act_av.iloc[-1] / lift_plt_data_df.act_av.iloc[0]\n",
    "lift_pred = lift_plt_data_df.pred_av.iloc[-1] / lift_plt_data_df.pred_av.iloc[0]\n",
    "print(f'Lift on actuals:\\t{lift_actuals:.3f}')\n",
    "print(f'Lift on predicted:\\t{lift_pred:.3f}')\n",
    "\n",
    "# test validation over time\n",
    "# read test\n",
    "df_test=pd.read_csv('./test_data.csv')\n",
    "print(df_test.shape)\n",
    "# data prep\n",
    "df_test = get_df_extra(df_test)\n",
    "print(df_test.shape)\n",
    "# score\n",
    "a=score_data(df_test, mods_df.GLMResults[3])\n",
    "# summary\n",
    "a=agg_act_pred(a,'YM','F')\n",
    "plt.figure(figsize=(15,9))\n",
    "plt.ylim(.08,.12)\n",
    "plt.grid()\n",
    "plt.plot(a.YM,a.Act_freq,color='r',label='Actual Frequency')\n",
    "plt.plot(a.YM,a.pred_freq,color='b',label='Predicted Frequency')\n",
    "plt.legend()"
   ]
  },
  {
   "cell_type": "markdown",
   "metadata": {},
   "source": [
    "<div align=\"right\" style=\"text-align: right\"><a href=\"#Contents\">Back to Contents</a></div>\n",
    "\n",
    "# Output results"
   ]
  },
  {
   "cell_type": "markdown",
   "metadata": {},
   "source": [
    "## Output model"
   ]
  },
  {
   "cell_type": "code",
   "execution_count": 24,
   "metadata": {},
   "outputs": [],
   "source": [
    "mods_df.GLMResults[3].save(\"GLM_Claim_Freq_Model.pkl\")"
   ]
  },
  {
   "cell_type": "markdown",
   "metadata": {},
   "source": [
    "## predictions on train,test,holdout"
   ]
  },
  {
   "cell_type": "code",
   "execution_count": 25,
   "metadata": {},
   "outputs": [
    {
     "name": "stdout",
     "output_type": "stream",
     "text": [
      "(101421, 16)\n",
      "(488507, 16)\n",
      "(86208, 16)\n"
     ]
    }
   ],
   "source": [
    "df_holdout=pd.read_csv('./holdout_data.csv')\n",
    "print(df_holdout.shape)\n",
    "df_train=pd.read_csv('./train_data.csv')\n",
    "print(df_train.shape)\n",
    "df_test=pd.read_csv('./test_data.csv')\n",
    "print(df_test.shape)\n",
    "\n",
    "# data prep\n",
    "df_holdout = get_df_extra(df_holdout)\n",
    "df_train = get_df_extra(df_train)\n",
    "df_test = get_df_extra(df_test)\n",
    "\n",
    "a=score_data(df_train, mods_df.GLMResults[3])\n",
    "b=score_data(df_test, mods_df.GLMResults[3])\n",
    "c=score_data(df_holdout, mods_df.GLMResults[3])\n",
    "a=pd.concat([a,b,c])\n",
    "a=a[['IDpol','pred_freq','pred_Nb']]\n",
    "a.to_csv('GLM_predictions_freq.csv',index=False)"
   ]
  },
  {
   "cell_type": "markdown",
   "metadata": {},
   "source": [
    "# getting the summary for each feature for test"
   ]
  },
  {
   "cell_type": "code",
   "execution_count": 26,
   "metadata": {
    "code_folding": [
     1
    ]
   },
   "outputs": [],
   "source": [
    "a=score_data(df_test, mods_df.GLMResults[3])\n",
    "data=pd.DataFrame()\n",
    "for i in ['DrivAge_capped', 'DrivAge_pow2', 'BonusMalus_over_50', 'BonusMalus_mod3', 'VehAge_new', 'VehAge_capped', \n",
    "        'Density_log', 'Region_grd', 'Month', 'VehGas']:    \n",
    "    x=agg_act_pred(a,i,'F')\n",
    "    x['feature']=i\n",
    "    x.rename(columns={i:'Values'},inplace=True)\n",
    "#     print(x)\n",
    "    data=data.append(x)\n",
    "\n",
    "data.to_csv('test_aggregated_var_df_freq.csv')"
   ]
  },
  {
   "cell_type": "markdown",
   "metadata": {},
   "source": [
    "# getting the summary for each feature for holdout"
   ]
  },
  {
   "cell_type": "code",
   "execution_count": 27,
   "metadata": {},
   "outputs": [],
   "source": [
    "a=score_data(df_holdout, mods_df.GLMResults[3])\n",
    "data=pd.DataFrame()\n",
    "for i in ['DrivAge_capped', 'DrivAge_pow2', 'BonusMalus_over_50', 'BonusMalus_mod3', 'VehAge_new', 'VehAge_capped', \n",
    "        'Density_log', 'Region_grd', 'Month', 'VehGas']:    \n",
    "    x=agg_act_pred(a,i,'F')\n",
    "    x['feature']=i\n",
    "    x.rename(columns={i:'Values'},inplace=True)\n",
    "#     print(x)\n",
    "    data=data.append(x)\n",
    "\n",
    "data.to_csv('holdout_aggregated_var_df_freq.csv')"
   ]
  },
  {
   "cell_type": "markdown",
   "metadata": {},
   "source": [
    "# Graph"
   ]
  },
  {
   "cell_type": "code",
   "execution_count": null,
   "metadata": {},
   "outputs": [],
   "source": [
    "# import seaborn as sns\n",
    "# import pylab \n",
    "# import scipy.stats as stats"
   ]
  },
  {
   "cell_type": "code",
   "execution_count": null,
   "metadata": {},
   "outputs": [],
   "source": [
    "# # residual plot\n",
    "# a=score_data(df_holdout, mods_df.GLMResults[3])\n",
    "# a=a.loc[~(a.ClaimNb==0),:]\n",
    "# g=sns.residplot(x=a.pred_freq, y=a.act_freq-a.pred_freq, lowess=True, color=\"g\")\n",
    "# # g.set_ylim(-15, 15)"
   ]
  },
  {
   "cell_type": "code",
   "execution_count": null,
   "metadata": {},
   "outputs": [],
   "source": [
    "# a=score_data(df_test, mods_df.GLMResults[3])\n",
    "# sns.residplot(x=a.pred_freq, y=a.act_freq-a.pred_freq, lowess=True, color=\"b\")"
   ]
  },
  {
   "cell_type": "code",
   "execution_count": null,
   "metadata": {},
   "outputs": [],
   "source": [
    "# # probability Plot test\n",
    "# a=score_data(df_test, mods_df.GLMResults[3])\n",
    "# stats.probplot(a.pred_freq, dist=\"norm\", plot=pylab)\n",
    "# pylab.show()"
   ]
  },
  {
   "cell_type": "code",
   "execution_count": null,
   "metadata": {},
   "outputs": [],
   "source": [
    "# # probability Plot test\n",
    "# a=score_data(df_holdout, mods_df.GLMResults[3])\n",
    "# stats.probplot(a.pred_freq, dist=\"norm\", plot=pylab)\n",
    "# pylab.show()"
   ]
  },
  {
   "cell_type": "markdown",
   "metadata": {},
   "source": [
    "# RMSE"
   ]
  },
  {
   "cell_type": "code",
   "execution_count": null,
   "metadata": {},
   "outputs": [],
   "source": [
    "# from sklearn.metrics import mean_squared_error"
   ]
  },
  {
   "cell_type": "code",
   "execution_count": null,
   "metadata": {
    "code_folding": []
   },
   "outputs": [],
   "source": [
    "# def RMSE_agg(df,model):\n",
    "#     a=score_data(df, model)\n",
    "#     a['YM']=pd.to_datetime(a.Date).dt.to_period('M')\n",
    "#     itr_list=list(a.YM.unique())\n",
    "#     b=pd.DataFrame()\n",
    "#     for i in itr_list:\n",
    "#         x=a.loc[a['YM']==i,:]    \n",
    "#         x['RMSE']=np.sqrt(mean_squared_error(x.act_freq, x.pred_freq))\n",
    "#         x=pd.DataFrame(x.groupby(by=['YM']).agg({'RMSE':'max'})).reset_index()\n",
    "#         b=b.append(x)\n",
    "#     return b"
   ]
  },
  {
   "cell_type": "code",
   "execution_count": null,
   "metadata": {},
   "outputs": [],
   "source": [
    "# a=RMSE_agg(df_test, mods_df.GLMResults[3])\n",
    "# b=RMSE_agg(df_train, mods_df.GLMResults[3])\n",
    "# a=a.merge(b,on='YM')\n",
    "# a.columns=['YM','RMSE_test','RMSE_train']\n",
    "# a.to_csv('RMSE_over_month_test_train_freq.csv',index=False)"
   ]
  },
  {
   "cell_type": "code",
   "execution_count": null,
   "metadata": {},
   "outputs": [],
   "source": [
    "# a=RMSE_agg(df_holdout, mods_df.GLMResults[3])\n",
    "# a.columns=['YM','RMSE_holdout']\n",
    "# a.to_csv('RMSE_over_month_holdout_freq.csv',index=False)"
   ]
  },
  {
   "cell_type": "code",
   "execution_count": null,
   "metadata": {},
   "outputs": [],
   "source": []
  }
 ],
 "metadata": {
  "kernelspec": {
   "display_name": "Python 3",
   "language": "python",
   "name": "python3"
  },
  "language_info": {
   "codemirror_mode": {
    "name": "ipython",
    "version": 3
   },
   "file_extension": ".py",
   "mimetype": "text/x-python",
   "name": "python",
   "nbconvert_exporter": "python",
   "pygments_lexer": "ipython3",
   "version": "3.8.3"
  },
  "toc": {
   "base_numbering": 1,
   "nav_menu": {},
   "number_sections": true,
   "sideBar": true,
   "skip_h1_title": false,
   "title_cell": "Table of Contents",
   "title_sidebar": "Contents",
   "toc_cell": false,
   "toc_position": {
    "height": "calc(100% - 180px)",
    "left": "10px",
    "top": "150px",
    "width": "307.188px"
   },
   "toc_section_display": true,
   "toc_window_display": true
  }
 },
 "nbformat": 4,
 "nbformat_minor": 4
}
