{
 "cells": [
  {
   "cell_type": "code",
   "execution_count": 1,
   "metadata": {},
   "outputs": [],
   "source": [
    "import numpy as np\n",
    "import pandas as pd"
   ]
  },
  {
   "cell_type": "markdown",
   "metadata": {},
   "source": [
    "# read the train/test/hold"
   ]
  },
  {
   "cell_type": "code",
   "execution_count": 2,
   "metadata": {},
   "outputs": [
    {
     "name": "stdout",
     "output_type": "stream",
     "text": [
      "(101421, 17)\n",
      "(488507, 17)\n",
      "(86208, 17)\n",
      "(676136, 17)\n"
     ]
    }
   ],
   "source": [
    "df_holdout=pd.read_csv('./holdout_data.csv')\n",
    "df_holdout['datatype']='hold'\n",
    "print(df_holdout.shape)\n",
    "df_train=pd.read_csv('./train_data.csv')\n",
    "df_train['datatype']='train'\n",
    "print(df_train.shape)\n",
    "df_test=pd.read_csv('./test_data.csv')\n",
    "df_test['datatype']='test'\n",
    "print(df_test.shape)\n",
    "\n",
    "\n",
    "df=pd.concat([df_holdout,df_test])\n",
    "df=pd.concat([df,df_train])\n",
    "del df_holdout,df_train,df_test\n",
    "print(df.shape)"
   ]
  },
  {
   "cell_type": "markdown",
   "metadata": {},
   "source": [
    "# loading frequency pred"
   ]
  },
  {
   "cell_type": "code",
   "execution_count": 3,
   "metadata": {},
   "outputs": [
    {
     "name": "stdout",
     "output_type": "stream",
     "text": [
      "(676136, 3)\n"
     ]
    }
   ],
   "source": [
    "fre=pd.read_csv('./GLM_predictions_freq.csv')\n",
    "print(fre.shape)"
   ]
  },
  {
   "cell_type": "markdown",
   "metadata": {},
   "source": [
    "# loading sev pred"
   ]
  },
  {
   "cell_type": "code",
   "execution_count": 4,
   "metadata": {},
   "outputs": [
    {
     "name": "stdout",
     "output_type": "stream",
     "text": [
      "(676136, 3)\n"
     ]
    }
   ],
   "source": [
    "sev=pd.read_csv('./GLM_predictions_sev.csv')\n",
    "print(sev.shape)"
   ]
  },
  {
   "cell_type": "code",
   "execution_count": 5,
   "metadata": {},
   "outputs": [
    {
     "data": {
      "text/html": [
       "<div>\n",
       "<style scoped>\n",
       "    .dataframe tbody tr th:only-of-type {\n",
       "        vertical-align: middle;\n",
       "    }\n",
       "\n",
       "    .dataframe tbody tr th {\n",
       "        vertical-align: top;\n",
       "    }\n",
       "\n",
       "    .dataframe thead th {\n",
       "        text-align: right;\n",
       "    }\n",
       "</style>\n",
       "<table border=\"1\" class=\"dataframe\">\n",
       "  <thead>\n",
       "    <tr style=\"text-align: right;\">\n",
       "      <th></th>\n",
       "      <th>IDpol</th>\n",
       "      <th>pred_sev</th>\n",
       "      <th>pred_pay</th>\n",
       "    </tr>\n",
       "  </thead>\n",
       "  <tbody>\n",
       "    <tr>\n",
       "      <th>0</th>\n",
       "      <td>147909.0</td>\n",
       "      <td>2469.391800</td>\n",
       "      <td>0.0</td>\n",
       "    </tr>\n",
       "    <tr>\n",
       "      <th>1</th>\n",
       "      <td>6105584.0</td>\n",
       "      <td>1739.798088</td>\n",
       "      <td>0.0</td>\n",
       "    </tr>\n",
       "    <tr>\n",
       "      <th>2</th>\n",
       "      <td>3076906.0</td>\n",
       "      <td>2409.353178</td>\n",
       "      <td>0.0</td>\n",
       "    </tr>\n",
       "    <tr>\n",
       "      <th>3</th>\n",
       "      <td>6101104.0</td>\n",
       "      <td>1714.999835</td>\n",
       "      <td>0.0</td>\n",
       "    </tr>\n",
       "    <tr>\n",
       "      <th>4</th>\n",
       "      <td>2229859.0</td>\n",
       "      <td>2233.132520</td>\n",
       "      <td>0.0</td>\n",
       "    </tr>\n",
       "  </tbody>\n",
       "</table>\n",
       "</div>"
      ],
      "text/plain": [
       "       IDpol     pred_sev  pred_pay\n",
       "0   147909.0  2469.391800       0.0\n",
       "1  6105584.0  1739.798088       0.0\n",
       "2  3076906.0  2409.353178       0.0\n",
       "3  6101104.0  1714.999835       0.0\n",
       "4  2229859.0  2233.132520       0.0"
      ]
     },
     "execution_count": 5,
     "metadata": {},
     "output_type": "execute_result"
    }
   ],
   "source": [
    "sev.head()"
   ]
  },
  {
   "cell_type": "markdown",
   "metadata": {},
   "source": [
    "# Merging the data and pred"
   ]
  },
  {
   "cell_type": "code",
   "execution_count": 6,
   "metadata": {},
   "outputs": [
    {
     "name": "stdout",
     "output_type": "stream",
     "text": [
      "(676136, 19)\n"
     ]
    }
   ],
   "source": [
    "df=pd.merge(df,fre,on='IDpol',how='left')\n",
    "print(df.shape)\n",
    "del fre"
   ]
  },
  {
   "cell_type": "code",
   "execution_count": 7,
   "metadata": {},
   "outputs": [
    {
     "name": "stdout",
     "output_type": "stream",
     "text": [
      "(676136, 21)\n"
     ]
    }
   ],
   "source": [
    "df=pd.merge(df,sev,on='IDpol',how='left')\n",
    "print(df.shape)\n",
    "del sev"
   ]
  },
  {
   "cell_type": "code",
   "execution_count": 8,
   "metadata": {},
   "outputs": [
    {
     "data": {
      "text/html": [
       "<div>\n",
       "<style scoped>\n",
       "    .dataframe tbody tr th:only-of-type {\n",
       "        vertical-align: middle;\n",
       "    }\n",
       "\n",
       "    .dataframe tbody tr th {\n",
       "        vertical-align: top;\n",
       "    }\n",
       "\n",
       "    .dataframe thead th {\n",
       "        text-align: right;\n",
       "    }\n",
       "</style>\n",
       "<table border=\"1\" class=\"dataframe\">\n",
       "  <thead>\n",
       "    <tr style=\"text-align: right;\">\n",
       "      <th></th>\n",
       "      <th>IDpol</th>\n",
       "      <th>ClaimNb</th>\n",
       "      <th>Exposure</th>\n",
       "      <th>Area</th>\n",
       "      <th>VehPower</th>\n",
       "      <th>VehAge</th>\n",
       "      <th>DrivAge</th>\n",
       "      <th>BonusMalus</th>\n",
       "      <th>VehBrand</th>\n",
       "      <th>VehGas</th>\n",
       "      <th>...</th>\n",
       "      <th>Region</th>\n",
       "      <th>Date</th>\n",
       "      <th>payout</th>\n",
       "      <th>Actual_premium</th>\n",
       "      <th>YM</th>\n",
       "      <th>datatype</th>\n",
       "      <th>pred_freq</th>\n",
       "      <th>pred_Nb</th>\n",
       "      <th>pred_sev</th>\n",
       "      <th>pred_pay</th>\n",
       "    </tr>\n",
       "  </thead>\n",
       "  <tbody>\n",
       "    <tr>\n",
       "      <th>0</th>\n",
       "      <td>2142545.0</td>\n",
       "      <td>1</td>\n",
       "      <td>0.18</td>\n",
       "      <td>B</td>\n",
       "      <td>5</td>\n",
       "      <td>14</td>\n",
       "      <td>42</td>\n",
       "      <td>100</td>\n",
       "      <td>B2</td>\n",
       "      <td>Diesel</td>\n",
       "      <td>...</td>\n",
       "      <td>R72</td>\n",
       "      <td>2020-04-16</td>\n",
       "      <td>738.53</td>\n",
       "      <td>139</td>\n",
       "      <td>2020-04</td>\n",
       "      <td>hold</td>\n",
       "      <td>0.152034</td>\n",
       "      <td>0.027366</td>\n",
       "      <td>1767.964782</td>\n",
       "      <td>1767.964782</td>\n",
       "    </tr>\n",
       "    <tr>\n",
       "      <th>1</th>\n",
       "      <td>2003769.0</td>\n",
       "      <td>0</td>\n",
       "      <td>0.18</td>\n",
       "      <td>E</td>\n",
       "      <td>5</td>\n",
       "      <td>2</td>\n",
       "      <td>40</td>\n",
       "      <td>90</td>\n",
       "      <td>B12</td>\n",
       "      <td>Regular</td>\n",
       "      <td>...</td>\n",
       "      <td>R82</td>\n",
       "      <td>2019-04-10</td>\n",
       "      <td>0.00</td>\n",
       "      <td>159</td>\n",
       "      <td>2019-04</td>\n",
       "      <td>hold</td>\n",
       "      <td>0.255694</td>\n",
       "      <td>0.046025</td>\n",
       "      <td>1811.162546</td>\n",
       "      <td>0.000000</td>\n",
       "    </tr>\n",
       "    <tr>\n",
       "      <th>2</th>\n",
       "      <td>1107755.0</td>\n",
       "      <td>0</td>\n",
       "      <td>0.52</td>\n",
       "      <td>D</td>\n",
       "      <td>5</td>\n",
       "      <td>11</td>\n",
       "      <td>31</td>\n",
       "      <td>68</td>\n",
       "      <td>B5</td>\n",
       "      <td>Diesel</td>\n",
       "      <td>...</td>\n",
       "      <td>R91</td>\n",
       "      <td>2019-09-12</td>\n",
       "      <td>0.00</td>\n",
       "      <td>204</td>\n",
       "      <td>2019-09</td>\n",
       "      <td>hold</td>\n",
       "      <td>0.099732</td>\n",
       "      <td>0.051861</td>\n",
       "      <td>2141.548863</td>\n",
       "      <td>0.000000</td>\n",
       "    </tr>\n",
       "    <tr>\n",
       "      <th>3</th>\n",
       "      <td>6015787.0</td>\n",
       "      <td>0</td>\n",
       "      <td>0.21</td>\n",
       "      <td>D</td>\n",
       "      <td>5</td>\n",
       "      <td>5</td>\n",
       "      <td>74</td>\n",
       "      <td>50</td>\n",
       "      <td>B12</td>\n",
       "      <td>Regular</td>\n",
       "      <td>...</td>\n",
       "      <td>R41</td>\n",
       "      <td>2019-03-04</td>\n",
       "      <td>0.00</td>\n",
       "      <td>115</td>\n",
       "      <td>2019-03</td>\n",
       "      <td>hold</td>\n",
       "      <td>0.078691</td>\n",
       "      <td>0.016525</td>\n",
       "      <td>2084.375167</td>\n",
       "      <td>0.000000</td>\n",
       "    </tr>\n",
       "    <tr>\n",
       "      <th>4</th>\n",
       "      <td>3057801.0</td>\n",
       "      <td>0</td>\n",
       "      <td>1.00</td>\n",
       "      <td>A</td>\n",
       "      <td>5</td>\n",
       "      <td>1</td>\n",
       "      <td>26</td>\n",
       "      <td>72</td>\n",
       "      <td>B4</td>\n",
       "      <td>Regular</td>\n",
       "      <td>...</td>\n",
       "      <td>R54</td>\n",
       "      <td>2019-08-20</td>\n",
       "      <td>0.00</td>\n",
       "      <td>177</td>\n",
       "      <td>2019-08</td>\n",
       "      <td>hold</td>\n",
       "      <td>0.104216</td>\n",
       "      <td>0.104216</td>\n",
       "      <td>2494.799854</td>\n",
       "      <td>0.000000</td>\n",
       "    </tr>\n",
       "  </tbody>\n",
       "</table>\n",
       "<p>5 rows × 21 columns</p>\n",
       "</div>"
      ],
      "text/plain": [
       "       IDpol  ClaimNb  Exposure Area  VehPower  VehAge  DrivAge  BonusMalus  \\\n",
       "0  2142545.0        1      0.18    B         5      14       42         100   \n",
       "1  2003769.0        0      0.18    E         5       2       40          90   \n",
       "2  1107755.0        0      0.52    D         5      11       31          68   \n",
       "3  6015787.0        0      0.21    D         5       5       74          50   \n",
       "4  3057801.0        0      1.00    A         5       1       26          72   \n",
       "\n",
       "  VehBrand   VehGas  ...  Region        Date  payout  Actual_premium       YM  \\\n",
       "0       B2   Diesel  ...     R72  2020-04-16  738.53             139  2020-04   \n",
       "1      B12  Regular  ...     R82  2019-04-10    0.00             159  2019-04   \n",
       "2       B5   Diesel  ...     R91  2019-09-12    0.00             204  2019-09   \n",
       "3      B12  Regular  ...     R41  2019-03-04    0.00             115  2019-03   \n",
       "4       B4  Regular  ...     R54  2019-08-20    0.00             177  2019-08   \n",
       "\n",
       "  datatype pred_freq   pred_Nb     pred_sev     pred_pay  \n",
       "0     hold  0.152034  0.027366  1767.964782  1767.964782  \n",
       "1     hold  0.255694  0.046025  1811.162546     0.000000  \n",
       "2     hold  0.099732  0.051861  2141.548863     0.000000  \n",
       "3     hold  0.078691  0.016525  2084.375167     0.000000  \n",
       "4     hold  0.104216  0.104216  2494.799854     0.000000  \n",
       "\n",
       "[5 rows x 21 columns]"
      ]
     },
     "execution_count": 8,
     "metadata": {},
     "output_type": "execute_result"
    }
   ],
   "source": [
    "df.head()"
   ]
  },
  {
   "cell_type": "code",
   "execution_count": 9,
   "metadata": {},
   "outputs": [
    {
     "data": {
      "text/plain": [
       "Index(['IDpol', 'ClaimNb', 'Exposure', 'Area', 'VehPower', 'VehAge', 'DrivAge',\n",
       "       'BonusMalus', 'VehBrand', 'VehGas', 'Density', 'Region', 'Date',\n",
       "       'payout', 'Actual_premium', 'YM', 'datatype', 'pred_freq', 'pred_Nb',\n",
       "       'pred_sev', 'pred_pay'],\n",
       "      dtype='object')"
      ]
     },
     "execution_count": 9,
     "metadata": {},
     "output_type": "execute_result"
    }
   ],
   "source": [
    "df.columns"
   ]
  },
  {
   "cell_type": "code",
   "execution_count": 10,
   "metadata": {},
   "outputs": [],
   "source": [
    "df['Actual_Freq']=df.ClaimNb/df.Exposure"
   ]
  },
  {
   "cell_type": "code",
   "execution_count": 11,
   "metadata": {},
   "outputs": [],
   "source": [
    "df['Actaul_sev']=df.payout/df.ClaimNb"
   ]
  },
  {
   "cell_type": "code",
   "execution_count": 12,
   "metadata": {},
   "outputs": [],
   "source": [
    "df['Actaul_Loss_cost']=df.Actual_Freq*df.Actaul_sev"
   ]
  },
  {
   "cell_type": "code",
   "execution_count": 13,
   "metadata": {},
   "outputs": [],
   "source": [
    "df['Pure_premium']=df.pred_sev*df.pred_freq"
   ]
  },
  {
   "cell_type": "code",
   "execution_count": null,
   "metadata": {},
   "outputs": [],
   "source": []
  }
 ],
 "metadata": {
  "kernelspec": {
   "display_name": "Python 3",
   "language": "python",
   "name": "python3"
  },
  "language_info": {
   "codemirror_mode": {
    "name": "ipython",
    "version": 3
   },
   "file_extension": ".py",
   "mimetype": "text/x-python",
   "name": "python",
   "nbconvert_exporter": "python",
   "pygments_lexer": "ipython3",
   "version": "3.8.3"
  },
  "toc": {
   "base_numbering": 1,
   "nav_menu": {},
   "number_sections": true,
   "sideBar": true,
   "skip_h1_title": false,
   "title_cell": "Table of Contents",
   "title_sidebar": "Contents",
   "toc_cell": false,
   "toc_position": {},
   "toc_section_display": true,
   "toc_window_display": false
  }
 },
 "nbformat": 4,
 "nbformat_minor": 4
}
